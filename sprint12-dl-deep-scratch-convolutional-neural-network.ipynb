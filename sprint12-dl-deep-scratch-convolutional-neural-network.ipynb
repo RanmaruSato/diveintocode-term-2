{
 "cells": [
  {
   "cell_type": "code",
   "execution_count": 39,
   "metadata": {},
   "outputs": [
    {
     "data": {
      "text/plain": [
       "<function seaborn.rcmod.set>"
      ]
     },
     "execution_count": 39,
     "metadata": {},
     "output_type": "execute_result"
    }
   ],
   "source": [
    "import numpy as np\n",
    "import pandas as ps\n",
    "import seaborn as sns\n",
    "import matplotlib.pyplot as plt\n",
    "import pandas as pd\n",
    "sns.set \n",
    "\n"
   ]
  },
  {
   "cell_type": "code",
   "execution_count": 30,
   "metadata": {
    "collapsed": true
   },
   "outputs": [],
   "source": [
    "class GetMiniBatch:\n",
    "    \"\"\"\n",
    "    ミニバッチを取得するイテレータ\n",
    "\n",
    "    Parameters\n",
    "    ----------\n",
    "    X : 次の形のndarray, shape (n_samples, n_features)\n",
    "      学習データ\n",
    "    y : 次の形のndarray, shape (n_samples, 1)または(n_samples,)\n",
    "      正解値\n",
    "    batch_size : int\n",
    "      バッチサイズ\n",
    "    seed : int\n",
    "      NumPyの乱数のシード\n",
    "\n",
    "    Retruns\n",
    "    ----------\n",
    "    for文で呼び出すと以下の2つを返す。最後のイテレーションでは、バッチサイズより小さいこともある。\n",
    "    mini_X : 次の形のndarray, shape (batch_size, n_features)\n",
    "      学習データのミニバッチ\n",
    "    mini_y : 次の形のndarray, shape (batch_size, 1)または(batch_size,)\n",
    "      正解値のミニバッチ\n",
    "    \"\"\"\n",
    "    def __init__(self, X, y, batch_size = 10, seed=0):\n",
    "        self.batch_size = batch_size\n",
    "        # ランダムに並べ換える\n",
    "        np.random.seed(seed)\n",
    "        shuffle_index = np.random.permutation(np.arange(X.shape[0]))\n",
    "        self.X = X.iloc[shuffle_index]\n",
    "        self.y = y.iloc[shuffle_index]\n",
    "        self._counter = 0\n",
    "        # イテレーション数を計算する\n",
    "        self._stop = np.ceil(X.shape[0]/self.batch_size).astype(np.int)\n",
    "\n",
    "    def __len__(self):\n",
    "        # len()が使われたときの処理\n",
    "        return self._stop\n",
    "\n",
    "    def __iter__(self):\n",
    "        return self\n",
    "\n",
    "    def __next__(self):\n",
    "        # for文で呼ばれた際のループごとの処理\n",
    "        if self._counter >= self._stop:\n",
    "            # 最後まで進んだら終了\n",
    "            self._counter = 0 # カウンターをリセット\n",
    "            raise StopIteration()\n",
    "\n",
    "        p0 = self._counter*self.batch_size\n",
    "        p1 = self._counter*self.batch_size + self.batch_size\n",
    "        self._counter += 1\n",
    "        return self.X[p0:p1], self.y[p0:p1]"
   ]
  },
  {
   "cell_type": "code",
   "execution_count": 31,
   "metadata": {
    "collapsed": true
   },
   "outputs": [],
   "source": [
    "class SimpleInitializer:\n",
    "    def __init__(self,sigma):\n",
    "        self.sigma = 0.01\n",
    "        \n",
    "    def W(self, n_nodes1, n_nodes2):\n",
    "        W = self.sigma * np.random.randn( n_nodes1, n_nodes2)\n",
    "        return W\n",
    "    \n",
    "\n",
    "    def B(self, n_nodes2):\n",
    "        \"\"\"\n",
    "    バイアスの初期化\n",
    "    Parameters\n",
    "    ----------\n",
    "    n_nodes2 : int\n",
    "      後の層のノード数\n",
    "\n",
    "    Returns\n",
    "    ----------\n",
    "    B :\n",
    "        \"\"\"\n",
    "        B = self.sigma * np.random.randn(n_nodes2,)\n",
    "        return B"
   ]
  },
  {
   "cell_type": "code",
   "execution_count": 32,
   "metadata": {
    "collapsed": true
   },
   "outputs": [],
   "source": [
    "class SGD:\n",
    "    \"\"\"\n",
    "    確率的勾配降下法\n",
    "    Parameters\n",
    "    ----------\n",
    "    lr : 学習率\n",
    "    \"\"\"\n",
    "    def __init__(self, lr):\n",
    "        self.lr = lr\n",
    "        \n",
    "    def update(self, layer):\n",
    "        \"\"\"\n",
    "        ある層の重みやバイアスの更新\n",
    "        Parameters\n",
    "        ----------\n",
    "        layer : 更新前の層のインスタンス\n",
    "\n",
    "        Returns\n",
    "        ----------\n",
    "        layer : 更新後の層のインスタンス\n",
    "        \"\"\"\n",
    "        #重みのサンプル数分 shapeで割る\n",
    "        \n",
    "        layer.W -= self.lr *  layer.dW/layer.dW.shape[0]\n",
    "        #バイアス項のサイズ感を注意\n",
    "        #サンプル数、サンプル数で割る\n",
    "        #　サンプル数を保持している変数\n",
    "        layer.B -=  self.lr*layer.dB.mean()\n",
    "        \n",
    "        return layer"
   ]
  },
  {
   "cell_type": "code",
   "execution_count": 33,
   "metadata": {
    "collapsed": true
   },
   "outputs": [],
   "source": [
    "class Identity_function_MSE:\n",
    "    def forward(self,y,pred):\n",
    "        mse = np.mean((y-pred) **2)/2\n",
    "        return mse\n",
    "        \n",
    "    def backwarod(self,y,pred):\n",
    "        delta = y - pred\n",
    "        return \n"
   ]
  },
  {
   "cell_type": "code",
   "execution_count": 34,
   "metadata": {
    "collapsed": true
   },
   "outputs": [],
   "source": [
    "class identify_function_MSE:\n",
    "    def forward(self,y,pred):\n",
    "        return np.mean((y - pred) **2)/2\n",
    "    def backwarod(self,y,pred):\n",
    "        return y - pred"
   ]
  },
  {
   "cell_type": "code",
   "execution_count": 35,
   "metadata": {
    "collapsed": true
   },
   "outputs": [],
   "source": [
    "class tanh:\n",
    "    \n",
    "    def forward(self,x):\n",
    "        self.A = np.tanh(x)\n",
    "        return self.A\n",
    "        \n",
    "    def backward(self,x):\n",
    "        \n",
    "        return (1 - np.tanh(self.A)**2 )"
   ]
  },
  {
   "cell_type": "markdown",
   "metadata": {
    "collapsed": true
   },
   "source": [
    "# 全結合層のクラス化"
   ]
  },
  {
   "cell_type": "code",
   "execution_count": 36,
   "metadata": {
    "collapsed": true
   },
   "outputs": [],
   "source": [
    "class FC:\n",
    "    \"\"\"\n",
    "    ノード数n_nodes1からn_nodes2への全結合層\n",
    "    Parameters\n",
    "    ----------\n",
    "    n_nodes1 : int\n",
    "      前の層のノード数\n",
    "    n_nodes2 : int\n",
    "      後の層のノード数\n",
    "    initializer : 初期化方法のインスタンス\n",
    "    optimizer : 最適化手法のインスタンス\n",
    "    \"\"\"\n",
    "    def __init__(self, n_nodes1, n_nodes2, initializer, optimizer):\n",
    "        self.optimizer = optimizer\n",
    "        self.n_nodes1 =  n_nodes1\n",
    "        self.n_nodes2 = n_nodes2\n",
    "        \n",
    "        #引数として、initializerクラスのインスタンス変数とを受け取る、\n",
    "        \n",
    "        self.W = initializer.W(self.n_nodes1,self.n_nodes2)\n",
    "        self.B  =initializer.B(self.n_nodes2,)\n",
    "        self.X = None\n",
    "        self.dW = None\n",
    "        self.dB = None\n",
    "        # 初期化\n",
    "        \n",
    "        # initializerのメソッドを使い、self.Wとself.Bを初期化する\n",
    "        \n",
    "    def forward(self, X):\n",
    "        \"\"\"\n",
    "        フォワード\n",
    "        Parameters\n",
    "        ----------\n",
    "        X : 次の形のndarray, shape (batch_size, n_nodes1)\n",
    "            入力\n",
    "        Returns\n",
    "        ----------\n",
    "        A : 次の形のndarray, shape (batch_size, n_nodes2)\n",
    "            出力\n",
    "        \"\"\"       \n",
    "        self.X = X\n",
    "        A = np.dot(X,self.W) + self.B\n",
    "        return A\n",
    "    \n",
    "    def backward(self, dA):\n",
    "        \"\"\"\n",
    "        バックワード\n",
    "        Parameters\n",
    "        ----------\n",
    "        dA : 次の形のndarray, shape (batch_size, n_nodes2)\n",
    "            後ろから流れてきた勾配\n",
    "        Returns\n",
    "        ----------\n",
    "        dZ : 次の形のndarray, shape (batch_size, n_nodes1)\n",
    "            前に流す勾配\n",
    "        \"\"\"\n",
    "        \n",
    "        # 更新\n",
    "        #全てのメンバ変数を\n",
    "        #次に渡す勾配、この勾配をベースに、その層での重みやバイアス項が計算される\n",
    "        dZ = np.dot(dA,self.W.T)\n",
    "        \n",
    "        #次に渡す重みのサイズ\n",
    "        self.dW = np.dot(self.X.T,dA)\n",
    "        \n",
    "        #バッチ処理に対応したバイアス項\n",
    "        self.dB =  dA\n",
    "        #更新\n",
    "        # self.optimizer.update(self)でも更新される\n",
    "        self = self.optimizer.update(self)\n",
    "\n",
    "        return dZ"
   ]
  },
  {
   "cell_type": "markdown",
   "metadata": {},
   "source": [
    "#  Trainerクラス"
   ]
  },
  {
   "cell_type": "code",
   "execution_count": 37,
   "metadata": {
    "collapsed": true
   },
   "outputs": [],
   "source": [
    "class Trainer:\n",
    "    def __init__(self, n_epochs, n_nodes1, n_nodes2, n_output,batch_size = 10,lr=0.001):\n",
    "        self.n_epochs = n_epochs\n",
    "        #バッチサイズ\n",
    "        self.batch = batch_size \n",
    "        #学習率\n",
    "        self.lr = lr\n",
    "        self.n_nodes1 = n_nodes1\n",
    "        self.n_nodes2 = n_nodes2\n",
    "        self.n_output = n_output\n",
    "        self.sigma = None\n",
    "        #アトリビュート\n",
    "        self.loss = []\n",
    "        self.cost  = []\n",
    "        self.valloss = []\n",
    "\n",
    "    def fit(self,X_train,y_train):\n",
    "        #特徴量を取得\n",
    "        n_features = X_train.shape[1]\n",
    "        gb = GetMiniBatch(X_train, y_train,batch_size=10)\n",
    "        optimizer = SGD(self.lr)\n",
    "        self.FC1 = FC(n_features, self.n_nodes1, SimpleInitializer(self.sigma), optimizer)\n",
    "        self.activation1 = tanh()\n",
    "        self.FC2 = FC(self.n_nodes1, self.n_nodes2, SimpleInitializer(self.sigma), optimizer)\n",
    "        self.activation2 = tanh()\n",
    "        self.FC3 = FC(self.n_nodes2, self.n_output, SimpleInitializer(self.sigma), optimizer)\n",
    "        self.activation3 = Identity_function_MSE()\n",
    "         \n",
    "        for i in range(self.n_epochs):\n",
    "            count = 0\n",
    "            cost = 0\n",
    "            for mini_X_train, mini_y_train in gb:\n",
    "                #イテレーション毎のフォワード\n",
    "                mini_y_train = mini_y_train[:,np.newaxis]\n",
    "\n",
    "                A1 = self.FC1.forward(mini_X_train)\n",
    "                Z1 = self.activation1.forward(A1)       \n",
    "\n",
    "                A2 = self.FC2.forward(Z1)\n",
    "                Z2 = self.activation2.forward(A2)\n",
    "                \n",
    "                A3 = self.FC3.forward(Z2)\n",
    "\n",
    "                Z3 = A3\n",
    "                 \n",
    "                loss = self.activation3.forward(Z3,mini_y_train)\n",
    "                count += 1\n",
    "                \n",
    "                cost += loss\n",
    "                self.loss.append(loss)\n",
    "                #逆伝播で次に渡す勾配を計算\n",
    "                dA3 = Z3 -  mini_y_train\n",
    "                #全結合層の逆伝播\n",
    "                dZ2 = self.FC3.backward(dA3)\n",
    "                #活性化関数の層の逆伝播\n",
    "                dA2 = self.activation2.backward(dZ2)\n",
    "                \n",
    "                dZ1 = self.FC2.backward(dA2)\n",
    "                dA1 = self.activation1.backward(dZ1)\n",
    "                \n",
    "                dZ0 = self.FC1.backward(dA1) # dZ0は使用しない\n",
    "\n",
    "\n",
    "        return self.loss\n",
    "    \n",
    "\n",
    "\n",
    "    \n",
    "    def predict(self,X):\n",
    "        # 1層目  ############################################\n",
    "        print(self.FC1.dW.shape)\n",
    "        rayer1_pre = np.dot(X, self.FC1.dW) \n",
    "        rayer1_out = np.tanh(rayer1_pre)\n",
    "\n",
    "        # 2層目  ############################################\n",
    "        rayer2_pre = np.dot(rayer1_out,  self.FC2.dW) \n",
    "        rayer2_out = np.tanh(rayer2_pre)\n",
    "\n",
    "        # 3層目  ############################################\n",
    "        pred = np.dot(rayer2_out, self.FC3.dW)\n",
    "\n",
    "        return pred\n",
    "\n"
   ]
  },
  {
   "cell_type": "code",
   "execution_count": 38,
   "metadata": {},
   "outputs": [
    {
     "ename": "NameError",
     "evalue": "name 'pd' is not defined",
     "output_type": "error",
     "traceback": [
      "\u001b[0;31m---------------------------------------------------------------------------\u001b[0m",
      "\u001b[0;31mNameError\u001b[0m                                 Traceback (most recent call last)",
      "\u001b[0;32m<ipython-input-38-ba8c0f31b651>\u001b[0m in \u001b[0;36m<module>\u001b[0;34m()\u001b[0m\n\u001b[1;32m      1\u001b[0m \u001b[0;34m\u001b[0m\u001b[0m\n\u001b[0;32m----> 2\u001b[0;31m \u001b[0mX\u001b[0m \u001b[0;34m=\u001b[0m \u001b[0mpd\u001b[0m\u001b[0;34m.\u001b[0m\u001b[0mread_csv\u001b[0m\u001b[0;34m(\u001b[0m\u001b[0;34m'train.csv'\u001b[0m\u001b[0;34m)\u001b[0m\u001b[0;34m\u001b[0m\u001b[0m\n\u001b[0m\u001b[1;32m      3\u001b[0m \u001b[0my\u001b[0m \u001b[0;34m=\u001b[0m \u001b[0mX\u001b[0m\u001b[0;34m[\u001b[0m\u001b[0;34m'SalePrice'\u001b[0m\u001b[0;34m]\u001b[0m\u001b[0;34m\u001b[0m\u001b[0m\n\u001b[1;32m      4\u001b[0m \u001b[0mX\u001b[0m \u001b[0;34m=\u001b[0m \u001b[0mX\u001b[0m\u001b[0;34m.\u001b[0m\u001b[0mloc\u001b[0m\u001b[0;34m[\u001b[0m\u001b[0;34m:\u001b[0m\u001b[0;34m,\u001b[0m\u001b[0;34m[\u001b[0m\u001b[0;34m'GrLivArea'\u001b[0m\u001b[0;34m,\u001b[0m\u001b[0;34m'YearBuilt'\u001b[0m\u001b[0;34m]\u001b[0m\u001b[0;34m]\u001b[0m\u001b[0;34m\u001b[0m\u001b[0m\n",
      "\u001b[0;31mNameError\u001b[0m: name 'pd' is not defined"
     ]
    }
   ],
   "source": [
    "\n",
    "X = pd.read_csv('train.csv')\n",
    "y = X['SalePrice']\n",
    "X = X.loc[:,['GrLivArea','YearBuilt']]"
   ]
  },
  {
   "cell_type": "code",
   "execution_count": 35,
   "metadata": {
    "collapsed": true
   },
   "outputs": [],
   "source": [
    "y = np.log(y)"
   ]
  },
  {
   "cell_type": "code",
   "execution_count": 36,
   "metadata": {
    "collapsed": true
   },
   "outputs": [],
   "source": [
    "model = Trainer(10,300,100,1)"
   ]
  },
  {
   "cell_type": "code",
   "execution_count": 37,
   "metadata": {
    "collapsed": true
   },
   "outputs": [],
   "source": [
    "loss = model.fit(X,y)"
   ]
  },
  {
   "cell_type": "code",
   "execution_count": 38,
   "metadata": {},
   "outputs": [
    {
     "name": "stderr",
     "output_type": "stream",
     "text": [
      "/Users/ranmarusato/anaconda/lib/python3.6/site-packages/matplotlib/font_manager.py:1328: UserWarning: findfont: Font family ['IPAexGothic'] not found. Falling back to DejaVu Sans\n",
      "  (prop.get_family(), self.defaultFamily[fontext]))\n"
     ]
    },
    {
     "data": {
      "image/png": "[encoded data removed]",
      "text/plain": [
       "<Figure size 576x396 with 1 Axes>"
      ]
     },
     "metadata": {},
     "output_type": "display_data"
    }
   ],
   "source": [
    "plt.plot(loss)\n",
    "plt.show()"
   ]
  },
  {
   "cell_type": "code",
   "execution_count": 7,
   "metadata": {},
   "outputs": [
    {
     "name": "stderr",
     "output_type": "stream",
     "text": [
      "/Users/ranmarusato/anaconda/lib/python3.6/site-packages/matplotlib/__init__.py:1067: UserWarning: Duplicate key in file \"/Users/ranmarusato/.matplotlib/matplotlibrc\", line #629\n",
      "  (fname, cnt))\n"
     ]
    }
   ],
   "source": [
    "from sklearn.datasets import fetch_mldata\n",
    "from sklearn.model_selection import train_test_split\n",
    "import numpy as np\n",
    "import matplotlib.pyplot as plt \n",
    "%matplotlib inline"
   ]
  },
  {
   "cell_type": "markdown",
   "metadata": {
    "collapsed": true
   },
   "source": [
    "# データの読み込み"
   ]
  },
  {
   "cell_type": "code",
   "execution_count": 4,
   "metadata": {
    "collapsed": true
   },
   "outputs": [],
   "source": [
    "mnist_dir = \"mnist_data/\""
   ]
  },
  {
   "cell_type": "code",
   "execution_count": 5,
   "metadata": {
    "collapsed": true
   },
   "outputs": [],
   "source": [
    "mnist = fetch_mldata('MNIST original', data_home=mnist_dir)"
   ]
  },
  {
   "cell_type": "code",
   "execution_count": 8,
   "metadata": {
    "collapsed": true
   },
   "outputs": [],
   "source": [
    "# trainとtestに分割する\n",
    "X_train, X_test, y_train, y_test = train_test_split(mnist.data, mnist.target, test_size=0.14285, shuffle=False)\n",
    "# ラベルをint型にしておく\n",
    "y_train = y_train.astype(np.int)\n",
    "y_test = y_test.astype(np.int)"
   ]
  },
  {
   "cell_type": "code",
   "execution_count": 47,
   "metadata": {},
   "outputs": [
    {
     "data": {
      "text/plain": [
       "(784,)"
      ]
     },
     "execution_count": 47,
     "metadata": {},
     "output_type": "execute_result"
    }
   ],
   "source": [
    "X_train[1].shape"
   ]
  },
  {
   "cell_type": "code",
   "execution_count": 48,
   "metadata": {
    "collapsed": true
   },
   "outputs": [],
   "source": [
    "x = np.array([1, 2, 3, 4])\n",
    "w = np.array([3, 5, 7])\n",
    "\n",
    "a = np.empty((2, 3))\n",
    "\n",
    "indexes0 = np.array([0, 1, 2]).astype(np.int)\n",
    "indexes1 = np.array([1, 2, 3]).astype(np.int)\n"
   ]
  },
  {
   "cell_type": "code",
   "execution_count": 49,
   "metadata": {
    "collapsed": true
   },
   "outputs": [],
   "source": [
    "a[0] = x[indexes0]*w"
   ]
  },
  {
   "cell_type": "code",
   "execution_count": 55,
   "metadata": {},
   "outputs": [
    {
     "data": {
      "text/plain": [
       "array([1, 2, 3])"
      ]
     },
     "execution_count": 55,
     "metadata": {},
     "output_type": "execute_result"
    }
   ],
   "source": [
    " x[indexes0]"
   ]
  },
  {
   "cell_type": "code",
   "execution_count": 54,
   "metadata": {},
   "outputs": [
    {
     "data": {
      "text/plain": [
       "34.0"
      ]
     },
     "execution_count": 54,
     "metadata": {},
     "output_type": "execute_result"
    }
   ],
   "source": [
    "a[0]"
   ]
  },
  {
   "cell_type": "code",
   "execution_count": 56,
   "metadata": {},
   "outputs": [
    {
     "data": {
      "text/plain": [
       "array([2, 3, 4])"
      ]
     },
     "execution_count": 56,
     "metadata": {},
     "output_type": "execute_result"
    }
   ],
   "source": [
    " x[indexes1]"
   ]
  },
  {
   "cell_type": "code",
   "execution_count": 50,
   "metadata": {
    "collapsed": true
   },
   "outputs": [],
   "source": [
    "a[1] = x[indexes1]*w"
   ]
  },
  {
   "cell_type": "code",
   "execution_count": 53,
   "metadata": {},
   "outputs": [
    {
     "data": {
      "text/plain": [
       "49.0"
      ]
     },
     "execution_count": 53,
     "metadata": {},
     "output_type": "execute_result"
    }
   ],
   "source": [
    "a[1] "
   ]
  },
  {
   "cell_type": "code",
   "execution_count": 51,
   "metadata": {
    "collapsed": true
   },
   "outputs": [],
   "source": [
    "a = a.sum(axis=1)"
   ]
  },
  {
   "cell_type": "code",
   "execution_count": 52,
   "metadata": {},
   "outputs": [
    {
     "data": {
      "text/plain": [
       "array([34., 49.])"
      ]
     },
     "execution_count": 52,
     "metadata": {},
     "output_type": "execute_result"
    }
   ],
   "source": [
    "a"
   ]
  },
  {
   "cell_type": "code",
   "execution_count": null,
   "metadata": {
    "collapsed": true
   },
   "outputs": [],
   "source": [
    "class SimpleConv1d:\n",
    "    \n",
    "    def forward():\n",
    "        "
   ]
  },
  {
   "cell_type": "code",
   "execution_count": 10,
   "metadata": {
    "collapsed": true
   },
   "outputs": [],
   "source": [
    "# 　画像に対して畳み込みを行うことで、画像のある特徴を強めたり、弱めたりできる\n",
    "#  局所性：各ピクセルが隣り合ったプクセルとにる"
   ]
  },
  {
   "cell_type": "code",
   "execution_count": 11,
   "metadata": {
    "collapsed": true
   },
   "outputs": [],
   "source": [
    "# 複数のチャンネル、複数のフィルタによるたたみこみ\n",
    "#  各フィルタは入力画像と同じだけのチャンネルをもつ\n",
    "# 各フィルタでチャンネルごとに畳み込みを行う\n",
    "#  畳み込みによって生成された画像の各ピクセルにバイアスを足して、活性化関数で処理する\n",
    "# バイアスの数とフィルタの数は同じになる"
   ]
  },
  {
   "cell_type": "markdown",
   "metadata": {},
   "source": [
    " プーリングとは\n",
    "画像を各領域に区切り、各領域を代表する値を抽出する。\n",
    "代表はマックスプーリングがよく使われる。\n",
    "プーリングは画像をぼやかす処理なので、対象の位置が多少変わる\n",
    "プーリングにより画像が小さくなるので、計算コストが」少ない\n"
   ]
  },
  {
   "cell_type": "code",
   "execution_count": 12,
   "metadata": {
    "collapsed": true
   },
   "outputs": [],
   "source": [
    "# CNN"
   ]
  },
  {
   "cell_type": "code",
   "execution_count": 513,
   "metadata": {
    "collapsed": true
   },
   "outputs": [],
   "source": [
    "def out_put(x_w,fit_w):\n",
    "    out_size = (x_w - fit_w ) // 1+1\n",
    "    return out_size"
   ]
  },
  {
   "cell_type": "markdown",
   "metadata": {},
   "source": [
    "# SimpleConv1d"
   ]
  },
  {
   "cell_type": "code",
   "execution_count": 916,
   "metadata": {
    "collapsed": true
   },
   "outputs": [],
   "source": [
    "class SimpleConv1d:\n",
    "    \"\"\"\n",
    "    ノード数n_nodes1からn_nodes2への全結合層\n",
    "    Parameters\n",
    "    ----------\n",
    "    self.W : フィルター（重み)\n",
    "    self.B : バイアス\n",
    "    \"\"\"\n",
    "    def __init__(self):\n",
    "        #引数として、initializerクラスのインスタンス変数とを受け取る、\n",
    "                #フィルタとバイアスの初期値/\n",
    "        \n",
    "        self.W = np.array([3, 5, 7])\n",
    "        self.B = np.array([1])\n",
    "        self.pad = 0\n",
    "        self.stride =1 \n",
    "        self.delta_A = np.array([10, 20])\n",
    "\n",
    "    \n",
    "    def forward(self, X):\n",
    "        \"\"\"\n",
    "        フォワード\n",
    "        Parameters\n",
    "        ----------\n",
    "        X : 次の形のndarray, shape (batch_size, n_nodes1)\n",
    "            入力\n",
    "        Returns\n",
    "        ----------\n",
    "        A : 次の形のndarray, shape (batch_size, n_nodes2)\n",
    "            出力\n",
    "        \"\"\"       \n",
    "        A_list = []\n",
    "        count = 0\n",
    "        #1*3のフィルターを定義\n",
    "        for i in range(0,X.shape[0]-1,self.stride):  \n",
    "            #出力のセル１個分\n",
    "            A = 0\n",
    "            for s in range(self.W.shape[0]):  \n",
    "                if i +s >= X.shape[0]:\n",
    "                    return np.array(A_list)\n",
    "                A += np.dot(X[i+s], self.W[s])\n",
    "                #バイアス項を加算\n",
    "            A +=self.B\n",
    "            A_list.append(A)\n",
    "\n",
    "            \n",
    "    def backward(self, X):\n",
    "        #Bの勾配を計算\n",
    "        delta_B  = np.sum(self.delta_A, axis =0 ,keepdims=True)\n",
    "        delta_W = []\n",
    "        delta_X = []\n",
    "        #Wの勾配を計算\n",
    "        for i  in range(self.W.shape[0]):\n",
    "            index = np.arange(i,i+2)\n",
    "            delta_W.append(np.dot(self.delta_A, X[index]))\n",
    "            \n",
    "        #Xの勾配を計算\n",
    "        for i  in range(X.shape[0]):\n",
    "        #インデックスがXのはじめと、末尾のみ別の処理\n",
    "            if i == 0 :\n",
    "                delta_X.append(self.delta_A[i]*W[i])\n",
    "            elif i == len(X)-1:\n",
    "                delta_X.append(self.delta_A[i-2]*W[i-1])\n",
    "            else:\n",
    "                index = np.array([i,i-1])\n",
    "                delta_X.append(np.dot(self.delta_A , self.W[index]))\n",
    "        delta_W = np.array(delta_W)\n",
    "        delta_X = np.array(delta_X)\n",
    "        return  delta_B, delta_W, delta_X"
   ]
  },
  {
   "cell_type": "code",
   "execution_count": 918,
   "metadata": {
    "collapsed": true
   },
   "outputs": [],
   "source": [
    "model = SimpleConv1d()"
   ]
  },
  {
   "cell_type": "code",
   "execution_count": 920,
   "metadata": {},
   "outputs": [
    {
     "data": {
      "text/plain": [
       "array([[35, 50]])"
      ]
     },
     "execution_count": 920,
     "metadata": {},
     "output_type": "execute_result"
    }
   ],
   "source": [
    "model.forward(X).reshape(1,2)"
   ]
  },
  {
   "cell_type": "code",
   "execution_count": 859,
   "metadata": {},
   "outputs": [
    {
     "data": {
      "text/plain": [
       "(array([30]), array([ 50,  80, 110]), array([ 30, 110, 170, 140]))"
      ]
     },
     "execution_count": 859,
     "metadata": {},
     "output_type": "execute_result"
    }
   ],
   "source": [
    "model.backward(X)"
   ]
  },
  {
   "cell_type": "code",
   "execution_count": 855,
   "metadata": {},
   "outputs": [
    {
     "data": {
      "text/plain": [
       "array([1, 2, 3, 4])"
      ]
     },
     "execution_count": 855,
     "metadata": {},
     "output_type": "execute_result"
    }
   ],
   "source": [
    "np.arange(1,5,1)"
   ]
  },
  {
   "cell_type": "code",
   "execution_count": 850,
   "metadata": {
    "collapsed": true
   },
   "outputs": [],
   "source": [
    "A = np.zeros(222)"
   ]
  },
  {
   "cell_type": "code",
   "execution_count": null,
   "metadata": {
    "collapsed": true
   },
   "outputs": [],
   "source": [
    "X = np.array([1,2,3,4])"
   ]
  },
  {
   "cell_type": "code",
   "execution_count": 529,
   "metadata": {},
   "outputs": [
    {
     "data": {
      "text/plain": [
       "4"
      ]
     },
     "execution_count": 529,
     "metadata": {},
     "output_type": "execute_result"
    }
   ],
   "source": [
    "X.shape[0]"
   ]
  },
  {
   "cell_type": "code",
   "execution_count": 530,
   "metadata": {
    "collapsed": true
   },
   "outputs": [],
   "source": [
    "out = out_put(X.shape[0],3)"
   ]
  },
  {
   "cell_type": "code",
   "execution_count": 531,
   "metadata": {},
   "outputs": [
    {
     "data": {
      "text/plain": [
       "2"
      ]
     },
     "execution_count": 531,
     "metadata": {},
     "output_type": "execute_result"
    }
   ],
   "source": [
    "out"
   ]
  }
 ],
 "metadata": {
  "kernelspec": {
   "display_name": "Python 3",
   "language": "python",
   "name": "python3"
  },
  "language_info": {
   "codemirror_mode": {
    "name": "ipython",
    "version": 3
   },
   "file_extension": ".py",
   "mimetype": "text/x-python",
   "name": "python",
   "nbconvert_exporter": "python",
   "pygments_lexer": "ipython3",
   "version": "3.6.6"
  }
 },
 "nbformat": 4,
 "nbformat_minor": 2
}
