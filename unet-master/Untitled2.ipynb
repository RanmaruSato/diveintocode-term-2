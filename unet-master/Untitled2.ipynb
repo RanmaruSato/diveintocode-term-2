{
 "cells": [
  {
   "cell_type": "code",
   "execution_count": 7,
   "metadata": {},
   "outputs": [
    {
     "name": "stdout",
     "output_type": "stream",
     "text": [
      "/Users/ranmarusato/anaconda/lib/python3.6/site-packages/matplotlib/__init__.py:1066: UserWarning: Duplicate key in file \"/Users/ranmarusato/.matplotlib/matplotlibrc\", line #629\n",
      "  (fname, cnt))\n",
      "Using TensorFlow backend.\n",
      "/Users/ranmarusato/anaconda/lib/python3.6/site-packages/requests/__init__.py:91: RequestsDependencyWarning: urllib3 (1.24.1) or chardet (3.0.4) doesn't match a supported version!\n",
      "  RequestsDependencyWarning)\n",
      "/Users/ranmarusato/Downloads/unet-master/model.py:55: UserWarning: Update your `Model` call to the Keras 2 API: `Model(inputs=Tensor(\"in..., outputs=Tensor(\"co...)`\n",
      "  model = Model(input = inputs, output = conv10)\n",
      "2018-12-11 16:06:27.040756: I tensorflow/core/platform/cpu_feature_guard.cc:141] Your CPU supports instructions that this TensorFlow binary was not compiled to use: AVX2 FMA\n",
      "Epoch 1/1\n",
      "Found 4000 images belonging to 1 classes.\n",
      "Found 4000 images belonging to 1 classes.\n",
      "1/1 [==============================] - 11s 11s/step - loss: 0.9954 - acc: 0.0075\n",
      "\n",
      "Epoch 00001: loss improved from inf to 0.99541, saving model to unet_membrane.hdf5\n",
      "0005bb9630.png\n",
      "0----------------------- (101, 101, 3)\n",
      "/Users/ranmarusato/anaconda/lib/python3.6/site-packages/skimage/transform/_warps.py:105: UserWarning: The default mode, 'constant', will be changed to 'reflect' in skimage 0.15.\n",
      "  warn(\"The default mode, 'constant', will be changed to 'reflect' in \"\n",
      "/Users/ranmarusato/anaconda/lib/python3.6/site-packages/skimage/transform/_warps.py:110: UserWarning: Anti-aliasing will be enabled by default in skimage 0.15 to avoid aliasing artifacts when down-sampling images.\n",
      "  warn(\"Anti-aliasing will be enabled by default in skimage 0.15 to \"\n",
      "1----------------------- (256, 256, 3)\n",
      "2----------------------- (256, 256, 3, 1)\n",
      "3----------------------- (1, 256, 256, 3, 1)\n",
      "000a68e46c.png\n",
      "Traceback (most recent call last):\n",
      "  File \"main.py\", line 24, in <module>\n",
      "    results = model.predict_generator(testGene,30,verbose=1)\n",
      "  File \"/Users/ranmarusato/anaconda/lib/python3.6/site-packages/keras/legacy/interfaces.py\", line 91, in wrapper\n",
      "    return func(*args, **kwargs)\n",
      "  File \"/Users/ranmarusato/anaconda/lib/python3.6/site-packages/keras/engine/training.py\", line 1522, in predict_generator\n",
      "0----------------------- (101, 101, 3)\n",
      "    verbose=verbose)\n",
      "  File \"/Users/ranmarusato/anaconda/lib/python3.6/site-packages/keras/engine/training_generator.py\", line 453, in predict_generator\n",
      "    outs = model.predict_on_batch(x)\n",
      "  File \"/Users/ranmarusato/anaconda/lib/python3.6/site-packages/keras/engine/training.py\", line 1268, in predict_on_batch\n",
      "    x, _, _ = self._standardize_user_data(x)\n",
      "  File \"/Users/ranmarusato/anaconda/lib/python3.6/site-packages/keras/engine/training.py\", line 751, in _standardize_user_data\n",
      "    exception_prefix='input')\n",
      "  File \"/Users/ranmarusato/anaconda/lib/python3.6/site-packages/keras/engine/training_utils.py\", line 128, in standardize_input_data\n",
      "    'with shape ' + str(data_shape))\n",
      "ValueError: Error when checking input: expected input_1 to have 4 dimensions, but got array with shape (1, 256, 256, 3, 1)\n",
      "1----------------------- (256, 256, 3)\n",
      "2----------------------- (256, 256, 3, 1)\n",
      "3----------------------- (1, 256, 256, 3, 1)\n"
     ]
    }
   ],
   "source": [
    "! python main.py"
   ]
  },
  {
   "cell_type": "code",
   "execution_count": 3,
   "metadata": {},
   "outputs": [],
   "source": [
    "import glob\n",
    "test_path  = glob.glob(\"salt/test/images/*\")"
   ]
  },
  {
   "cell_type": "code",
   "execution_count": 4,
   "metadata": {},
   "outputs": [],
   "source": [
    "count = 0\n",
    "for i in test_path:\n",
    "    count +=1"
   ]
  },
  {
   "cell_type": "code",
   "execution_count": 5,
   "metadata": {},
   "outputs": [
    {
     "name": "stdout",
     "output_type": "stream",
     "text": [
      "18000\n"
     ]
    }
   ],
   "source": [
    "print(count)"
   ]
  },
  {
   "cell_type": "code",
   "execution_count": null,
   "metadata": {},
   "outputs": [],
   "source": []
  }
 ],
 "metadata": {
  "kernelspec": {
   "display_name": "Python 3",
   "language": "python",
   "name": "python3"
  },
  "language_info": {
   "codemirror_mode": {
    "name": "ipython",
    "version": 3
   },
   "file_extension": ".py",
   "mimetype": "text/x-python",
   "name": "python",
   "nbconvert_exporter": "python",
   "pygments_lexer": "ipython3",
   "version": "3.6.6"
  }
 },
 "nbformat": 4,
 "nbformat_minor": 2
}
