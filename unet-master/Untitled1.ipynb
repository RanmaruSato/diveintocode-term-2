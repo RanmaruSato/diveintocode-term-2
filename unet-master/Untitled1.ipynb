{
 "cells": [
  {
   "cell_type": "code",
   "execution_count": null,
   "metadata": {},
   "outputs": [
    {
     "name": "stdout",
     "output_type": "stream",
     "text": [
      "/Users/ranmarusato/anaconda/lib/python3.6/site-packages/matplotlib/__init__.py:1066: UserWarning: Duplicate key in file \"/Users/ranmarusato/.matplotlib/matplotlibrc\", line #629\n",
      "  (fname, cnt))\n",
      "Using TensorFlow backend.\n",
      "/Users/ranmarusato/anaconda/lib/python3.6/site-packages/requests/__init__.py:91: RequestsDependencyWarning: urllib3 (1.24.1) or chardet (3.0.4) doesn't match a supported version!\n",
      "  RequestsDependencyWarning)\n",
      "/Users/ranmarusato/unet-master/model.py:55: UserWarning: Update your `Model` call to the Keras 2 API: `Model(inputs=Tensor(\"in..., outputs=Tensor(\"co...)`\n",
      "  model = Model(input = inputs, output = conv10)\n",
      "\u001b]0;IPython: ranmarusato/unet-master\u0007Epoch 1/1\n",
      "Found 30 images belonging to 1 classes.\n",
      "Found 30 images belonging to 1 classes.\n",
      "2018-12-11 10:12:06.497306: I tensorflow/core/platform/cpu_feature_guard.cc:141] Your CPU supports instructions that this TensorFlow binary was not compiled to use: AVX2 FMA\n",
      "189/300 [=================>............] - ETA: 13:14 - loss: 0.6916 - acc: 0.7783"
     ]
    }
   ],
   "source": [
    "! ipython main.py"
   ]
  },
  {
   "cell_type": "markdown",
   "metadata": {},
   "source": [
    "セマンティックセグメンテーションとインスタンスセグメンテーション\n",
    "セマンティックセグメンテーションは、画像系ディープラーニングの一種で、画素レベルでそれが何かを認識するタスクを行う手法です。\n",
    "各ピクセルにクラスのラベルを付与。\n",
    "やっていることは割りと簡単で、画像分類のタスクでは、画素情報をクラスの次元に落とし込んでいましたが、セマンティックセグメンテーションでは、それを画素（ピクセル）単位で行うようにしているだけです。\n",
    "\n",
    "インスタンスセグメンテーション個々の物体ごとに別のラベルをふよ\n",
    "\n",
    "物体検出や画像分類との違い\n",
    "どのような手法があるか。\n",
    "https://www.slideshare.net/ToshinoriHanya/ohs3\n",
    "\n",
    "ディープラーニングにおけるスキップコネクションとは何か。以下の双方の手法に関して説明せよ。\n",
    "\n",
    "U-Netのようなセグメンテーション手法\n",
    "ResNet[2]などの画像分類手法\n",
    "\n"
   ]
  }
 ],
 "metadata": {
  "kernelspec": {
   "display_name": "Python 3",
   "language": "python",
   "name": "python3"
  },
  "language_info": {
   "codemirror_mode": {
    "name": "ipython",
    "version": 3
   },
   "file_extension": ".py",
   "mimetype": "text/x-python",
   "name": "python",
   "nbconvert_exporter": "python",
   "pygments_lexer": "ipython3",
   "version": "3.6.6"
  }
 },
 "nbformat": 4,
 "nbformat_minor": 2
}
