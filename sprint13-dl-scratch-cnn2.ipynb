{
 "cells": [
  {
   "cell_type": "markdown",
   "metadata": {},
   "source": [
    "#  CNN\n",
    "畳み込み層 は入力データの一部分に注目しその部分画像の特徴を調べる層である。\n",
    "どのような特徴に注目すれば良いかは、学習用のデータや損失関数等を適切に定めることによって自動的に学習される。 \n",
    "例えば顔認識をするCNNの場合適切に学習が進むと、 入力層に近い畳み込み層では線や点といった低次元な概念の特徴に、出力層に近い層では目や鼻といった高次元な概念の特徴に注目するようになる 。 \n",
    "注目すべき特徴はプログラム内部では フィルター(カーネル) と呼ばれる重み行列として扱われ、各特徴につき一つのフィルターを用いる。\n",
    "#  プーリング層\n",
    "プーリング層はのように 畳み込み層の出力を縮約しデータの量を削減する層と言える。\n",
    "特徴マップの部分区間の最大値を取ったり（ Maxプーリング ）、あるいは平均を取ったり（ Averageプーリング ）することでデータの圧縮を実現する。\n",
    "畳み込みを行うと、画像の中の特徴量の分布を調べることができるが、同じ特徴は同じような場所にかたまって分布していることが多く、また時に特徴が見つからない場所が広く分布していることもあるなど、畳み込み層から出力される特徴マップにはそのデータの大きさに対して無駄が多くある。\n",
    "\n",
    "プーリングはそのようなデータの無駄を削減し、情報の損失を抑えながらデータを圧縮することができる。 \n",
    "その反面、プーリングによって細かい位置情報は削除されてしまうが、逆にこれは、プーリング層によって抽出された特徴が元画像の平行移動などでも影響を受けないようなロバスト性を与える役割を果たす。例えば、写真に映る手書き数字の分類を行う場合、数字の位置は重要ではないが、プーリングによってそのようなあまり重要でない情報を削除し、入力画像に対する被検出物の位置の変化に強いモデルを構築することができる"
   ]
  },
  {
   "cell_type": "code",
   "execution_count": 1,
   "metadata": {},
   "outputs": [
    {
     "name": "stderr",
     "output_type": "stream",
     "text": [
      "/Users/ranmarusato/anaconda/lib/python3.6/site-packages/matplotlib/__init__.py:1067: UserWarning: Duplicate key in file \"/Users/ranmarusato/.matplotlib/matplotlibrc\", line #629\n",
      "  (fname, cnt))\n"
     ]
    },
    {
     "data": {
      "text/plain": [
       "<function seaborn.rcmod.set>"
      ]
     },
     "execution_count": 1,
     "metadata": {},
     "output_type": "execute_result"
    }
   ],
   "source": [
    "import numpy as np\n",
    "import pandas as ps\n",
    "import seaborn as sns\n",
    "import matplotlib.pyplot as plt\n",
    "import pandas as pd\n",
    "sns.set "
   ]
  },
  {
   "cell_type": "code",
   "execution_count": 2,
   "metadata": {
    "collapsed": true
   },
   "outputs": [],
   "source": [
    "class GetMiniBatch:\n",
    "    \"\"\"\n",
    "    ミニバッチを取得するイテレータ\n",
    "\n",
    "    Parameters\n",
    "    ----------\n",
    "    X : 次の形のndarray, shape (n_samples, n_features)\n",
    "      学習データ\n",
    "    y : 次の形のndarray, shape (n_samples, 1)または(n_samples,)\n",
    "      正解値\n",
    "    batch_size : int\n",
    "      バッチサイズ\n",
    "    seed : int\n",
    "      NumPyの乱数のシード\n",
    "\n",
    "    Retruns\n",
    "    ----------\n",
    "    for文で呼び出すと以下の2つを返す。最後のイテレーションでは、バッチサイズより小さいこともある。\n",
    "    mini_X : 次の形のndarray, shape (batch_size, n_features)\n",
    "      学習データのミニバッチ\n",
    "    mini_y : 次の形のndarray, shape (batch_size, 1)または(batch_size,)\n",
    "      正解値のミニバッチ\n",
    "    \"\"\"\n",
    "    def __init__(self, X, y, batch_size = 10, seed=0):\n",
    "        self.batch_size = batch_size\n",
    "        # ランダムに並べ換える\n",
    "        np.random.seed(seed)\n",
    "        shuffle_index = np.random.permutation(np.arange(X.shape[0]))\n",
    "        self.X = X.iloc[shuffle_index]\n",
    "        self.y = y.iloc[shuffle_index]\n",
    "        self._counter = 0\n",
    "        # イテレーション数を計算する\n",
    "        self._stop = np.ceil(X.shape[0]/self.batch_size).astype(np.int)\n",
    "\n",
    "    def __len__(self):\n",
    "        # len()が使われたときの処理\n",
    "        return self._stop\n",
    "\n",
    "    def __iter__(self):\n",
    "        return self\n",
    "\n",
    "    def __next__(self):\n",
    "        # for文で呼ばれた際のループごとの処理\n",
    "        if self._counter >= self._stop:\n",
    "            # 最後まで進んだら終了\n",
    "            self._counter = 0 # カウンターをリセット\n",
    "            raise StopIteration()\n",
    "\n",
    "        p0 = self._counter*self.batch_size\n",
    "        p1 = self._counter*self.batch_size + self.batch_size\n",
    "        self._counter += 1\n",
    "        return self.X[p0:p1], self.y[p0:p1]"
   ]
  },
  {
   "cell_type": "code",
   "execution_count": 3,
   "metadata": {
    "collapsed": true
   },
   "outputs": [],
   "source": [
    "class SimpleInitializer:\n",
    "    def __init__(self):\n",
    "        self.sigma = 0.01\n",
    "        \n",
    "    def W(self, n_nodes1, n_nodes2):\n",
    "        W = self.sigma * np.random.randn( n_nodes1, n_nodes2)\n",
    "        return W\n",
    "    \n",
    "\n",
    "    def B(self, n_nodes2):\n",
    "        \"\"\"\n",
    "    バイアスの初期化\n",
    "    Parameters\n",
    "    ----------\n",
    "    n_nodes2 : int\n",
    "      後の層のノード数\n",
    "\n",
    "    Returns\n",
    "    ----------\n",
    "    B :\n",
    "        \"\"\"\n",
    "        B = self.sigma * np.random.randn(n_nodes2,)\n",
    "        return B"
   ]
  },
  {
   "cell_type": "code",
   "execution_count": 4,
   "metadata": {
    "collapsed": true
   },
   "outputs": [],
   "source": [
    "class SGD:\n",
    "    \"\"\"\n",
    "    確率的勾配降下法\n",
    "    Parameters\n",
    "    ----------\n",
    "    lr : 学習率\n",
    "    \"\"\"\n",
    "    def __init__(self, lr):\n",
    "        self.lr = lr\n",
    "        \n",
    "    def update(self, layer):\n",
    "        \"\"\"\n",
    "        ある層の重みやバイアスの更新\n",
    "        Parameters\n",
    "        ----------\n",
    "        layer : 更新前の層のインスタンス\n",
    "\n",
    "        Returns\n",
    "        ----------\n",
    "        layer : 更新後の層のインスタンス\n",
    "        \"\"\"\n",
    "        #重みのサンプル数分 shapeで割る\n",
    "        \n",
    "        layer.W -= self.lr *  layer.dW/layer.dW.shape[0]\n",
    "        #バイアス項のサイズ感を注意\n",
    "        #サンプル数、サンプル数で割る\n",
    "        #　サンプル数を保持している変数\n",
    "        layer.B -=  self.lr*layer.dB.mean()\n",
    "        \n",
    "        return layer"
   ]
  },
  {
   "cell_type": "code",
   "execution_count": 5,
   "metadata": {
    "collapsed": true
   },
   "outputs": [],
   "source": [
    "class Identity_function_MSE:\n",
    "    def forward(self,y,pred):\n",
    "        mse = np.mean((y-pred) **2)/2\n",
    "        return mse\n",
    "        \n",
    "    def backwarod(self,y,pred):\n",
    "        delta = y - pred\n",
    "        return \n"
   ]
  },
  {
   "cell_type": "code",
   "execution_count": 6,
   "metadata": {
    "collapsed": true
   },
   "outputs": [],
   "source": [
    "class identify_function_MSE:\n",
    "    def forward(self,y,pred):\n",
    "        return np.mean((y - pred) **2)/2\n",
    "    def backwarod(self,y,pred):\n",
    "        return y - pred"
   ]
  },
  {
   "cell_type": "code",
   "execution_count": 7,
   "metadata": {
    "collapsed": true
   },
   "outputs": [],
   "source": [
    "class tanh:\n",
    "    \n",
    "    def forward(self,x):\n",
    "        self.A = np.tanh(x)\n",
    "        return self.A\n",
    "        \n",
    "    def backward(self,x):\n",
    "        \n",
    "        return (1 - np.tanh(self.A)**2 )"
   ]
  },
  {
   "cell_type": "markdown",
   "metadata": {
    "collapsed": true
   },
   "source": [
    "# 全結合層のクラス化"
   ]
  },
  {
   "cell_type": "code",
   "execution_count": 8,
   "metadata": {
    "collapsed": true
   },
   "outputs": [],
   "source": [
    "class FC:\n",
    "    \"\"\"\n",
    "    ノード数n_nodes1からn_nodes2への全結合層\n",
    "    Parameters\n",
    "    ----------\n",
    "    n_nodes1 : int\n",
    "      前の層のノード数\n",
    "    n_nodes2 : int\n",
    "      後の層のノード数\n",
    "    initializer : 初期化方法のインスタンス\n",
    "    optimizer : 最適化手法のインスタンス\n",
    "    \"\"\"\n",
    "    def __init__(self, n_nodes1, n_nodes2, initializer, optimizer):\n",
    "        self.optimizer = optimizer\n",
    "        self.n_nodes1 =  n_nodes1\n",
    "        self.n_nodes2 = n_nodes2\n",
    "        \n",
    "        #引数として、initializerクラスのインスタンス変数とを受け取る、\n",
    "        \n",
    "        self.W = initializer.W(self.n_nodes1,self.n_nodes2)\n",
    "        self.B  =initializer.B(self.n_nodes2,)\n",
    "        self.X = None\n",
    "        self.dW = None\n",
    "        self.dB = None\n",
    "        # 初期化\n",
    "        \n",
    "        # initializerのメソッドを使い、self.Wとself.Bを初期化する\n",
    "        \n",
    "    def forward(self, X):\n",
    "        \"\"\"\n",
    "        フォワード\n",
    "        Parameters\n",
    "        ----------\n",
    "        X : 次の形のndarray, shape (batch_size, n_nodes1)\n",
    "            入力\n",
    "        Returns\n",
    "        ----------\n",
    "        A : 次の形のndarray, shape (batch_size, n_nodes2)\n",
    "            出力\n",
    "        \"\"\"       \n",
    "        self.X = X\n",
    "        A = np.dot(X,self.W) + self.B\n",
    "        return A\n",
    "    \n",
    "    def backward(self, dA):\n",
    "        \"\"\"\n",
    "        バックワード\n",
    "        Parameters\n",
    "        ----------\n",
    "        dA : 次の形のndarray, shape (batch_size, n_nodes2)\n",
    "            後ろから流れてきた勾配\n",
    "        Returns\n",
    "        ----------\n",
    "        dZ : 次の形のndarray, shape (batch_size, n_nodes1)\n",
    "            前に流す勾配\n",
    "        \"\"\"\n",
    "        \n",
    "        # 更新\n",
    "        #全てのメンバ変数を\n",
    "        #次に渡す勾配、この勾配をベースに、その層での重みやバイアス項が計算される\n",
    "        dZ = np.dot(dA,self.W.T)\n",
    "        \n",
    "        #次に渡す重みのサイズ\n",
    "        self.dW = np.dot(self.X.T,dA)\n",
    "        \n",
    "        #バッチ処理に対応したバイアス項\n",
    "        self.dB =  dA\n",
    "        #更新\n",
    "        # self.optimizer.update(self)でも更新される\n",
    "        self = self.optimizer.update(self)\n",
    "\n",
    "        return dZ"
   ]
  },
  {
   "cell_type": "markdown",
   "metadata": {},
   "source": [
    "#  Trainerクラス"
   ]
  },
  {
   "cell_type": "code",
   "execution_count": 9,
   "metadata": {
    "collapsed": true
   },
   "outputs": [],
   "source": [
    "class Trainer:\n",
    "    def __init__(self, n_epochs, n_nodes1, n_nodes2, n_output,batch_size = 10,lr=0.001):\n",
    "        self.n_epochs = n_epochs\n",
    "        #バッチサイズ\n",
    "        self.batch = batch_size \n",
    "        #学習率\n",
    "        self.lr = lr\n",
    "        self.n_nodes1 = n_nodes1\n",
    "        self.n_nodes2 = n_nodes2\n",
    "        self.n_output = n_output\n",
    "        self.sigma = None\n",
    "        #アトリビュート\n",
    "        self.loss = []\n",
    "        self.cost  = []\n",
    "        self.valloss = []\n",
    "\n",
    "    def fit(self,X_train,y_train):\n",
    "        #特徴量を取得\n",
    "        n_features = X_train.shape[1]\n",
    "        gb = GetMiniBatch(X_train, y_train,batch_size=10)\n",
    "        optimizer = SGD(self.lr)\n",
    "        self.FC1 = FC(n_features, self.n_nodes1, SimpleInitializer(self.sigma), optimizer)\n",
    "        self.activation1 = tanh()\n",
    "        self.FC2 = FC(self.n_nodes1, self.n_nodes2, SimpleInitializer(self.sigma), optimizer)\n",
    "        self.activation2 = tanh()\n",
    "        self.FC3 = FC(self.n_nodes2, self.n_output, SimpleInitializer(self.sigma), optimizer)\n",
    "        self.activation3 = Identity_function_MSE()\n",
    "         \n",
    "        for i in range(self.n_epochs):\n",
    "            count = 0\n",
    "            cost = 0\n",
    "            for mini_X_train, mini_y_train in gb:\n",
    "                #イテレーション毎のフォワード\n",
    "                mini_y_train = mini_y_train[:,np.newaxis]\n",
    "\n",
    "                A1 = self.FC1.forward(mini_X_train)\n",
    "                Z1 = self.activation1.forward(A1)       \n",
    "\n",
    "                A2 = self.FC2.forward(Z1)\n",
    "                Z2 = self.activation2.forward(A2)\n",
    "                \n",
    "                A3 = self.FC3.forward(Z2)\n",
    "\n",
    "                Z3 = A3\n",
    "                 \n",
    "                loss = self.activation3.forward(Z3,mini_y_train)\n",
    "                count += 1\n",
    "                \n",
    "                cost += loss\n",
    "                self.loss.append(loss)\n",
    "                #逆伝播で次に渡す勾配を計算\n",
    "                dA3 = Z3 -  mini_y_train\n",
    "                #全結合層の逆伝播\n",
    "                dZ2 = self.FC3.backward(dA3)\n",
    "                #活性化関数の層の逆伝播\n",
    "                dA2 = self.activation2.backward(dZ2)\n",
    "                \n",
    "                dZ1 = self.FC2.backward(dA2)\n",
    "                dA1 = self.activation1.backward(dZ1)\n",
    "                \n",
    "                dZ0 = self.FC1.backward(dA1) # dZ0は使用しない\n",
    "\n",
    "\n",
    "        return self.loss\n",
    "    \n",
    "\n",
    "\n",
    "    \n",
    "    def predict(self,X):\n",
    "        # 1層目  ############################################\n",
    "        print(self.FC1.dW.shape)\n",
    "        rayer1_pre = np.dot(X, self.FC1.dW) \n",
    "        rayer1_out = np.tanh(rayer1_pre)\n",
    "\n",
    "        # 2層目  ############################################\n",
    "        rayer2_pre = np.dot(rayer1_out,  self.FC2.dW) \n",
    "        rayer2_out = np.tanh(rayer2_pre)\n",
    "\n",
    "        # 3層目  ############################################\n",
    "        pred = np.dot(rayer2_out, self.FC3.dW)\n",
    "\n",
    "        return pred"
   ]
  },
  {
   "cell_type": "code",
   "execution_count": 10,
   "metadata": {
    "collapsed": true
   },
   "outputs": [],
   "source": [
    "X = pd.read_csv('train.csv')\n",
    "y = X['SalePrice']\n",
    "X = X.loc[:,['GrLivArea','YearBuilt']]"
   ]
  },
  {
   "cell_type": "code",
   "execution_count": 11,
   "metadata": {
    "collapsed": true
   },
   "outputs": [],
   "source": [
    "y = np.log(y)"
   ]
  },
  {
   "cell_type": "code",
   "execution_count": 12,
   "metadata": {
    "collapsed": true
   },
   "outputs": [],
   "source": [
    "model = Trainer(10,300,100,1)"
   ]
  },
  {
   "cell_type": "code",
   "execution_count": 15,
   "metadata": {
    "collapsed": true
   },
   "outputs": [],
   "source": [
    "from sklearn.datasets import fetch_mldata\n",
    "from sklearn.model_selection import train_test_split\n",
    "import numpy as np\n",
    "import matplotlib.pyplot as plt \n",
    "%matplotlib inline"
   ]
  },
  {
   "cell_type": "markdown",
   "metadata": {
    "collapsed": true
   },
   "source": [
    "# データの読み込み"
   ]
  },
  {
   "cell_type": "code",
   "execution_count": 16,
   "metadata": {
    "collapsed": true
   },
   "outputs": [],
   "source": [
    "mnist_dir = \"mnist_data/\""
   ]
  },
  {
   "cell_type": "code",
   "execution_count": 17,
   "metadata": {
    "collapsed": true
   },
   "outputs": [],
   "source": [
    "mnist = fetch_mldata('MNIST original', data_home=mnist_dir)"
   ]
  },
  {
   "cell_type": "code",
   "execution_count": 18,
   "metadata": {
    "collapsed": true
   },
   "outputs": [],
   "source": [
    "# trainとtestに分割する\n",
    "X_train, X_test, y_train, y_test = train_test_split(mnist.data, mnist.target, test_size=0.14285, shuffle=False)\n",
    "# ラベルをint型にしておく\n",
    "y_train = y_train.astype(np.int)\n",
    "y_test = y_test.astype(np.int)"
   ]
  },
  {
   "cell_type": "code",
   "execution_count": 19,
   "metadata": {},
   "outputs": [
    {
     "data": {
      "text/plain": [
       "(784,)"
      ]
     },
     "execution_count": 19,
     "metadata": {},
     "output_type": "execute_result"
    }
   ],
   "source": [
    "X_train[1].shape"
   ]
  },
  {
   "cell_type": "code",
   "execution_count": 20,
   "metadata": {
    "collapsed": true
   },
   "outputs": [],
   "source": [
    "x = np.array([1, 2, 3, 4])\n",
    "w = np.array([3, 5, 7])\n",
    "\n",
    "a = np.empty((2, 3))\n",
    "\n",
    "indexes0 = np.array([0, 1, 2]).astype(np.int)\n",
    "indexes1 = np.array([1, 2, 3]).astype(np.int)\n"
   ]
  },
  {
   "cell_type": "code",
   "execution_count": 21,
   "metadata": {
    "collapsed": true
   },
   "outputs": [],
   "source": [
    "a[0] = x[indexes0]*w"
   ]
  },
  {
   "cell_type": "code",
   "execution_count": 22,
   "metadata": {},
   "outputs": [
    {
     "data": {
      "text/plain": [
       "array([1, 2, 3])"
      ]
     },
     "execution_count": 22,
     "metadata": {},
     "output_type": "execute_result"
    }
   ],
   "source": [
    " x[indexes0]"
   ]
  },
  {
   "cell_type": "code",
   "execution_count": 23,
   "metadata": {},
   "outputs": [
    {
     "data": {
      "text/plain": [
       "array([ 3., 10., 21.])"
      ]
     },
     "execution_count": 23,
     "metadata": {},
     "output_type": "execute_result"
    }
   ],
   "source": [
    "a[0]"
   ]
  },
  {
   "cell_type": "code",
   "execution_count": 24,
   "metadata": {},
   "outputs": [
    {
     "data": {
      "text/plain": [
       "array([2, 3, 4])"
      ]
     },
     "execution_count": 24,
     "metadata": {},
     "output_type": "execute_result"
    }
   ],
   "source": [
    " x[indexes1]"
   ]
  },
  {
   "cell_type": "code",
   "execution_count": 25,
   "metadata": {
    "collapsed": true
   },
   "outputs": [],
   "source": [
    "a[1] = x[indexes1]*w"
   ]
  },
  {
   "cell_type": "code",
   "execution_count": 26,
   "metadata": {},
   "outputs": [
    {
     "data": {
      "text/plain": [
       "array([ 6., 15., 28.])"
      ]
     },
     "execution_count": 26,
     "metadata": {},
     "output_type": "execute_result"
    }
   ],
   "source": [
    "a[1] "
   ]
  },
  {
   "cell_type": "code",
   "execution_count": 27,
   "metadata": {
    "collapsed": true
   },
   "outputs": [],
   "source": [
    "a = a.sum(axis=1)"
   ]
  },
  {
   "cell_type": "code",
   "execution_count": 28,
   "metadata": {},
   "outputs": [
    {
     "data": {
      "text/plain": [
       "array([34., 49.])"
      ]
     },
     "execution_count": 28,
     "metadata": {},
     "output_type": "execute_result"
    }
   ],
   "source": [
    "a"
   ]
  },
  {
   "cell_type": "code",
   "execution_count": null,
   "metadata": {
    "collapsed": true
   },
   "outputs": [],
   "source": [
    "class Conv2d:\n",
    "    def __init__(self):\n",
    "    def forward(self):\n",
    "    def backward(self):\n",
    "    "
   ]
  },
  {
   "cell_type": "markdown",
   "metadata": {},
   "source": [
    "# 2d Convolution  Forward"
   ]
  },
  {
   "cell_type": "code",
   "execution_count": 378,
   "metadata": {
    "collapsed": true
   },
   "outputs": [],
   "source": [
    "def output_size(height, width, padding, filter_height, filter_width, stride):\n",
    "    output_height = (height + 2*padding - filter_height)//stride +1\n",
    "    output_width= (width + 2*padding - filter_width)//stride +1\n",
    "    output_height =int( output_height)\n",
    "    output_width =int( output_width)\n",
    "    return [output_height,output_width]"
   ]
  },
  {
   "cell_type": "code",
   "execution_count": 394,
   "metadata": {},
   "outputs": [],
   "source": [
    "padding =0"
   ]
  },
  {
   "cell_type": "code",
   "execution_count": 393,
   "metadata": {},
   "outputs": [
    {
     "data": {
      "text/plain": [
       "(60000, 1, 32, 32)"
      ]
     },
     "execution_count": 393,
     "metadata": {},
     "output_type": "execute_result"
    }
   ],
   "source": [
    "np.pad(X_train,((0,0),(0,0),(padding,padding),(padding,padding)),'constant',constant_values=0).shape"
   ]
  },
  {
   "cell_type": "code",
   "execution_count": null,
   "metadata": {
    "collapsed": true
   },
   "outputs": [],
   "source": [
    "a = np.zeros([2,])"
   ]
  },
  {
   "cell_type": "code",
   "execution_count": 603,
   "metadata": {},
   "outputs": [
    {
     "data": {
      "text/plain": [
       "(60000, 1, 28, 28)"
      ]
     },
     "execution_count": 603,
     "metadata": {},
     "output_type": "execute_result"
    }
   ],
   "source": [
    "X_train.shape"
   ]
  },
  {
   "cell_type": "code",
   "execution_count": 604,
   "metadata": {
    "collapsed": true
   },
   "outputs": [],
   "source": [
    "X_train_pad = np.pad(X_train,((0,0),(0,0),(padding,padding),(padding,padding)),'constant',constant_values=0)"
   ]
  },
  {
   "cell_type": "code",
   "execution_count": 605,
   "metadata": {},
   "outputs": [
    {
     "data": {
      "text/plain": [
       "(60000, 1, 28, 28)"
      ]
     },
     "execution_count": 605,
     "metadata": {},
     "output_type": "execute_result"
    }
   ],
   "source": [
    "X_train_pad.shape"
   ]
  },
  {
   "cell_type": "code",
   "execution_count": 654,
   "metadata": {},
   "outputs": [],
   "source": [
    "a = np.zeros([30,1,26,26])"
   ]
  },
  {
   "cell_type": "code",
   "execution_count": 658,
   "metadata": {},
   "outputs": [],
   "source": [
    "f_height=3\n",
    "f_width = 3\n",
    "\n",
    "stride =1\n",
    "a_list =[]\n",
    "F = 1\n",
    "padding = 0\n",
    "W =np.random.randint(0,9,(1,3,3))\n",
    "num, channel, width, height = X_train.shape\n",
    "#サンプル数\n",
    "output_shape = output_size(height,width,padding,f_height,f_width,stride)\n",
    "# a = np.zeros([30,output_shape[0],output_shape[1]])\n",
    "count = 0\n",
    "X_train_pad = np.pad(X_train,((0,0),(0,0),(padding,padding),(padding,padding)),'constant',constant_values=0)\n",
    "\n",
    "for  n in range(30):\n",
    "    #フィルター   \n",
    "    for f  in range(F):\n",
    "        count_w_index = 0\n",
    "        count_h_index = 0  \n",
    "        #幅:w\n",
    "        for  i in range(0, (output_shape[0]), stride):\n",
    "                \n",
    "#             print(i)\n",
    "#             print(n)\n",
    "#             print(c)\n",
    "#             print(F_SIZE)\n",
    "#             print(count_w_index)             a[count_w_index, count_h_index] =   (X_train[n,c][i:i+F_SIZE, 0:F_SIZE]*W).sum()\n",
    "#             print(count_w_index, count_h_index)      \n",
    "#             print(count_h_index)              \n",
    "#             #高さh\n",
    "            for s in range(0, output_shape[1], stride):\n",
    "#                 print(i,i+F_SIZE, s,s+F_SIZE)#インデックスのデバッグ\n",
    "#                 print ((X_train[n,c][i:i+F_SIZE, s:s+F_SIZE]*W).sum())\n",
    "#                 print(X_train_pad[n,c][i:i+f_height, s:s+f_width ])\n",
    "                #バイアスはあとでたす\n",
    "#                 a[n,i,s] += (X_train_pad[n,c,i:i+F_SIZE,s:s+F_SIZE]*W[f]).sum() \n",
    "#                 print(i,i+F_SIZE)\n",
    "#                 print((X_train_pad[n,c,i:i+f_height,s:s+f_width]*W[f]))\n",
    "#                 print((X_train_pad[n,c,i:i+f_height,s:s+f_width]*W[f]))\n",
    "#                 print(np.sum(X_train_pad[n,c,i:i+f_height,s:s+f_width]*W[f]))\n",
    "                a[n,f,int(i/stride),int(s/stride)] += (np.sum(X_train_pad[n,:,i:i+f_height,s:s+f_width]*W[f])).sum() \n",
    "#                 print('インデックス')\n",
    "#                 print(i,s )\n",
    "#                 print(count_w_index, count_h_index)  "
   ]
  },
  {
   "cell_type": "code",
   "execution_count": 659,
   "metadata": {},
   "outputs": [
    {
     "data": {
      "text/plain": [
       "(30, 1, 26, 26)"
      ]
     },
     "execution_count": 659,
     "metadata": {},
     "output_type": "execute_result"
    }
   ],
   "source": [
    "a.shape"
   ]
  },
  {
   "cell_type": "code",
   "execution_count": 650,
   "metadata": {},
   "outputs": [
    {
     "data": {
      "text/plain": [
       "(30, 1, 26, 26)"
      ]
     },
     "execution_count": 650,
     "metadata": {},
     "output_type": "execute_result"
    }
   ],
   "source": [
    "a.reshape(30,1,26,26).shape"
   ]
  },
  {
   "cell_type": "markdown",
   "metadata": {},
   "source": [
    "# 2d convolution backward"
   ]
  },
  {
   "cell_type": "code",
   "execution_count": 695,
   "metadata": {},
   "outputs": [],
   "source": [
    "N, C, H, W = X_train.shape"
   ]
  },
  {
   "cell_type": "code",
   "execution_count": 717,
   "metadata": {},
   "outputs": [
    {
     "data": {
      "text/plain": [
       "(1, 1, 3, 3)"
      ]
     },
     "execution_count": 717,
     "metadata": {},
     "output_type": "execute_result"
    }
   ],
   "source": [
    "W.shape"
   ]
  },
  {
   "cell_type": "code",
   "execution_count": 672,
   "metadata": {
    "collapsed": true
   },
   "outputs": [],
   "source": [
    "F,C,FH,FW = W.shape"
   ]
  },
  {
   "cell_type": "code",
   "execution_count": 675,
   "metadata": {},
   "outputs": [],
   "source": [
    "output_shape = output_size(X_train.shape[2],X_train.shape[3],0,W.shape[2],W.shape[3],stride)"
   ]
  },
  {
   "cell_type": "code",
   "execution_count": 678,
   "metadata": {},
   "outputs": [
    {
     "data": {
      "text/plain": [
       "[26, 26]"
      ]
     },
     "execution_count": 678,
     "metadata": {},
     "output_type": "execute_result"
    }
   ],
   "source": [
    "output_shape"
   ]
  },
  {
   "cell_type": "code",
   "execution_count": 685,
   "metadata": {},
   "outputs": [
    {
     "data": {
      "text/plain": [
       "array([[[2, 0, 1],\n",
       "        [2, 2, 0],\n",
       "        [0, 2, 0]]])"
      ]
     },
     "execution_count": 685,
     "metadata": {},
     "output_type": "execute_result"
    }
   ],
   "source": [
    "W[0,:,:,:]"
   ]
  },
  {
   "cell_type": "code",
   "execution_count": 703,
   "metadata": {},
   "outputs": [
    {
     "data": {
      "text/plain": [
       "array([[[[1, 0, 1],\n",
       "         [0, 2, 0],\n",
       "         [0, 0, 0]]]])"
      ]
     },
     "execution_count": 703,
     "metadata": {},
     "output_type": "execute_result"
    }
   ],
   "source": [
    "W"
   ]
  },
  {
   "cell_type": "code",
   "execution_count": 709,
   "metadata": {},
   "outputs": [
    {
     "data": {
      "text/plain": [
       "(60000, 1, 28, 28)"
      ]
     },
     "execution_count": 709,
     "metadata": {},
     "output_type": "execute_result"
    }
   ],
   "source": [
    "X_train.shape"
   ]
  },
  {
   "cell_type": "code",
   "execution_count": 304,
   "metadata": {},
   "outputs": [
    {
     "data": {
      "text/plain": [
       "array([[   0.,    0.,    0.,    0.,    0.,    0.,    0.,    0.,    0.,\n",
       "           0.,    0.,    0.,    0.,    0.,    0.,    0.,    0.,    0.,\n",
       "           0.,    0.,    0.,    0.,    0.,    0.,    0.,    0.],\n",
       "       [   0.,    0.,    0.,    0.,    0.,    0.,    0.,    0.,    0.,\n",
       "           0.,    0.,    0.,    0.,    0.,    0.,    0.,    0.,    0.,\n",
       "           0.,    0.,    0.,    0.,    0.,    0.,    0.,    0.],\n",
       "       [   0.,    0.,    0.,    0.,    0.,    0.,    0.,    0.,    0.,\n",
       "           0.,   57.,  300.,  496.,  567.,  330.,  134.,    6.,    0.,\n",
       "           0.,    0.,    0.,    0.,    0.,    0.,    0.,    0.],\n",
       "       [   0.,    0.,    0.,    0.,    0.,    0.,    0.,    0.,    0.,\n",
       "         119.,  414.,  910., 1240., 1327., 1017.,  578.,  196.,   10.,\n",
       "           0.,    0.,    0.,    0.,    0.,    0.,    0.,    0.],\n",
       "       [   0.,    0.,    0.,    0.,    0.,    0.,    0.,    9.,   81.,\n",
       "         435.,  974., 1651., 1999., 2087., 1777., 1279.,  696.,  257.,\n",
       "          53.,    0.,    0.,    0.,    0.,    0.,    0.,    0.],\n",
       "       [   0.,    0.,    0.,    0.,    0.,    0.,    0.,   70.,  395.,\n",
       "         986., 1612., 2042., 2210., 2276., 2207., 1905., 1370.,  698.,\n",
       "         241.,   14.,    0.,    0.,    0.,    0.,    0.,    0.],\n",
       "       [   0.,    0.,    0.,    0.,    0.,    0.,    0.,  217.,  795.,\n",
       "        1349., 1590., 1580., 1748., 2052., 2243., 2221., 1939., 1352.,\n",
       "         652.,  172.,    0.,    0.,    0.,    0.,    0.,    0.],\n",
       "       [   0.,    0.,    0.,    0.,    0.,    0.,   73.,  517., 1221.,\n",
       "        1479., 1240.,  851., 1018., 1541., 1985., 2246., 2198., 1850.,\n",
       "        1172.,  492.,   81.,    0.,    0.,    0.,    0.,    0.],\n",
       "       [   0.,    0.,    0.,    0.,    0.,   30.,  341.,  977., 1481.,\n",
       "        1264.,  628.,  160.,  311.,  918., 1611., 2125., 2277., 2168.,\n",
       "        1695.,  952.,  302.,   16.,    0.,    0.,    0.,    0.],\n",
       "       [   0.,    0.,    0.,    0.,    0.,  171.,  735., 1454., 1601.,\n",
       "        1049.,  330.,   12.,   29.,  401., 1022., 1752., 2139., 2263.,\n",
       "        2043., 1348.,  603.,   64.,    0.,    0.,    0.,    0.],\n",
       "       [   0.,    0.,    0.,    0.,    0.,  328., 1072., 1748., 1540.,\n",
       "         796.,  120.,    0.,    0.,  152.,  534., 1200., 1807., 2184.,\n",
       "        2229., 1691.,  932.,  221.,    0.,    0.,    0.,    0.],\n",
       "       [   0.,    0.,    0.,    0.,   12.,  513., 1272., 1876., 1412.,\n",
       "         653.,   37.,    0.,    0.,   19.,  148.,  580., 1280., 1910.,\n",
       "        2237., 1973., 1248.,  489.,   34.,    0.,    0.,    0.],\n",
       "       [   0.,    0.,    0.,    0.,   37.,  651., 1411., 1953., 1339.,\n",
       "         579.,    0.,    0.,    0.,    0.,   14.,  193.,  829., 1575.,\n",
       "        2156., 2181., 1491.,  731.,   70.,    0.,    0.,    0.],\n",
       "       [   0.,    0.,    0.,    0.,   62.,  772., 1532., 2049., 1339.,\n",
       "         579.,    0.,    0.,    0.,    0.,    0.,   19.,  503., 1263.,\n",
       "        2004., 2277., 1692.,  932.,  175.,    0.,    0.,    0.],\n",
       "       [   0.,    0.,    0.,    0.,   75.,  835., 1595., 2136., 1414.,\n",
       "         654.,   38.,    0.,    0.,    0.,    0.,    0.,  290., 1006.,\n",
       "        1766., 2236., 1800., 1040.,  280.,    0.,    0.,    0.],\n",
       "       [   0.,    0.,    0.,    0.,   75.,  834., 1593., 2194., 1627.,\n",
       "         878.,  202.,   10.,    0.,    0.,    0.,    0.,  120.,  764.,\n",
       "        1523., 2146., 1775., 1016.,  273.,    0.,    0.,    0.],\n",
       "       [   0.,    0.,    0.,    0.,   75.,  834., 1593., 2254., 1940.,\n",
       "        1239.,  503.,   58.,    0.,    0.,    0.,    0.,   31.,  621.,\n",
       "        1380., 1921., 1499.,  740.,  168.,    0.,    0.,    0.],\n",
       "       [   0.,    0.,    0.,    0.,   56.,  707., 1466., 2169., 2178.,\n",
       "        1682.,  985.,  325.,   62.,    0.,    0.,    0.,  153.,  787.,\n",
       "        1525., 1725., 1120.,  382.,   29.,    0.,    0.,    0.],\n",
       "       [   0.,    0.,    0.,    0.,   31.,  454., 1185., 1913., 2249.,\n",
       "        2024., 1562.,  957.,  537.,  281.,  136.,  153.,  503., 1199.,\n",
       "        1721., 1446.,  741.,  116.,    0.,    0.,    0.,    0.],\n",
       "       [   0.,    0.,    0.,    0.,    6.,  176.,  678., 1323., 1912.,\n",
       "        2121., 2020., 1668., 1296., 1023.,  846.,  863., 1218., 1649.,\n",
       "        1674., 1076.,  415.,   34.,    0.,    0.,    0.,    0.],\n",
       "       [   0.,    0.,    0.,    0.,    0.,   25.,  274.,  678., 1306.,\n",
       "        1816., 2153., 2160., 1993., 1783., 1606., 1608., 1632., 1564.,\n",
       "        1119.,  564.,  149.,    0.,    0.,    0.,    0.,    0.],\n",
       "       [   0.,    0.,    0.,    0.,    0.,    0.,   24.,  175.,  579.,\n",
       "        1171., 1762., 2117., 2202., 2082., 1918., 1718., 1413.,  980.,\n",
       "         488.,  171.,    9.,    0.,    0.,    0.,    0.,    0.],\n",
       "       [   0.,    0.,    0.,    0.,    0.,    0.,    0.,    6.,  157.,\n",
       "         520., 1003., 1358., 1443., 1340., 1208., 1008.,  686.,  319.,\n",
       "          71.,    7.,    0.,    0.,    0.,    0.,    0.,    0.],\n",
       "       [   0.,    0.,    0.,    0.,    0.,    0.,    0.,    0.,    4.,\n",
       "         114.,  350.,  599.,  684.,  580.,  448.,  263.,  131.,   10.,\n",
       "           0.,    0.,    0.,    0.,    0.,    0.,    0.,    0.],\n",
       "       [   0.,    0.,    0.,    0.,    0.,    0.,    0.,    0.,    0.,\n",
       "           0.,    0.,    0.,    0.,    0.,    0.,    0.,    0.,    0.,\n",
       "           0.,    0.,    0.,    0.,    0.,    0.,    0.,    0.],\n",
       "       [   0.,    0.,    0.,    0.,    0.,    0.,    0.,    0.,    0.,\n",
       "           0.,    0.,    0.,    0.,    0.,    0.,    0.,    0.,    0.,\n",
       "           0.,    0.,    0.,    0.,    0.,    0.,    0.,    0.]])"
      ]
     },
     "execution_count": 304,
     "metadata": {},
     "output_type": "execute_result"
    }
   ],
   "source": [
    "A[0]"
   ]
  },
  {
   "cell_type": "code",
   "execution_count": 305,
   "metadata": {},
   "outputs": [
    {
     "data": {
      "text/plain": [
       "array([[   0.,    0.,    0.,    0.,    0.,    0.,    0.,    0.,    0.,\n",
       "           0.,    0.,    0.,    0.,    0.,    0.,    0.,    0.,    0.,\n",
       "           0.,    0.,    0.,    0.,    0.,    0.,    0.,    0.],\n",
       "       [   0.,    0.,    0.,    0.,    0.,    0.,    0.,    0.,    0.,\n",
       "           0.,    0.,    0.,    0.,    0.,    0.,    0.,    0.,    0.,\n",
       "           0.,    0.,    0.,    0.,    0.,    0.,    0.,    0.],\n",
       "       [   0.,    0.,    0.,    0.,    0.,    0.,    0.,    0.,    0.,\n",
       "           0.,   57.,  300.,  496.,  567.,  330.,  134.,    6.,    0.,\n",
       "           0.,    0.,    0.,    0.,    0.,    0.,    0.,    0.],\n",
       "       [   0.,    0.,    0.,    0.,    0.,    0.,    0.,    0.,    0.,\n",
       "         119.,  414.,  910., 1240., 1327., 1017.,  578.,  196.,   10.,\n",
       "           0.,    0.,    0.,    0.,    0.,    0.,    0.,    0.],\n",
       "       [   0.,    0.,    0.,    0.,    0.,    0.,    0.,    9.,   81.,\n",
       "         435.,  974., 1651., 1999., 2087., 1777., 1279.,  696.,  257.,\n",
       "          53.,    0.,    0.,    0.,    0.,    0.,    0.,    0.],\n",
       "       [   0.,    0.,    0.,    0.,    0.,    0.,    0.,   70.,  395.,\n",
       "         986., 1612., 2042., 2210., 2276., 2207., 1905., 1370.,  698.,\n",
       "         241.,   14.,    0.,    0.,    0.,    0.,    0.,    0.],\n",
       "       [   0.,    0.,    0.,    0.,    0.,    0.,    0.,  217.,  795.,\n",
       "        1349., 1590., 1580., 1748., 2052., 2243., 2221., 1939., 1352.,\n",
       "         652.,  172.,    0.,    0.,    0.,    0.,    0.,    0.],\n",
       "       [   0.,    0.,    0.,    0.,    0.,    0.,   73.,  517., 1221.,\n",
       "        1479., 1240.,  851., 1018., 1541., 1985., 2246., 2198., 1850.,\n",
       "        1172.,  492.,   81.,    0.,    0.,    0.,    0.,    0.],\n",
       "       [   0.,    0.,    0.,    0.,    0.,   30.,  341.,  977., 1481.,\n",
       "        1264.,  628.,  160.,  311.,  918., 1611., 2125., 2277., 2168.,\n",
       "        1695.,  952.,  302.,   16.,    0.,    0.,    0.,    0.],\n",
       "       [   0.,    0.,    0.,    0.,    0.,  171.,  735., 1454., 1601.,\n",
       "        1049.,  330.,   12.,   29.,  401., 1022., 1752., 2139., 2263.,\n",
       "        2043., 1348.,  603.,   64.,    0.,    0.,    0.,    0.],\n",
       "       [   0.,    0.,    0.,    0.,    0.,  328., 1072., 1748., 1540.,\n",
       "         796.,  120.,    0.,    0.,  152.,  534., 1200., 1807., 2184.,\n",
       "        2229., 1691.,  932.,  221.,    0.,    0.,    0.,    0.],\n",
       "       [   0.,    0.,    0.,    0.,   12.,  513., 1272., 1876., 1412.,\n",
       "         653.,   37.,    0.,    0.,   19.,  148.,  580., 1280., 1910.,\n",
       "        2237., 1973., 1248.,  489.,   34.,    0.,    0.,    0.],\n",
       "       [   0.,    0.,    0.,    0.,   37.,  651., 1411., 1953., 1339.,\n",
       "         579.,    0.,    0.,    0.,    0.,   14.,  193.,  829., 1575.,\n",
       "        2156., 2181., 1491.,  731.,   70.,    0.,    0.,    0.],\n",
       "       [   0.,    0.,    0.,    0.,   62.,  772., 1532., 2049., 1339.,\n",
       "         579.,    0.,    0.,    0.,    0.,    0.,   19.,  503., 1263.,\n",
       "        2004., 2277., 1692.,  932.,  175.,    0.,    0.,    0.],\n",
       "       [   0.,    0.,    0.,    0.,   75.,  835., 1595., 2136., 1414.,\n",
       "         654.,   38.,    0.,    0.,    0.,    0.,    0.,  290., 1006.,\n",
       "        1766., 2236., 1800., 1040.,  280.,    0.,    0.,    0.],\n",
       "       [   0.,    0.,    0.,    0.,   75.,  834., 1593., 2194., 1627.,\n",
       "         878.,  202.,   10.,    0.,    0.,    0.,    0.,  120.,  764.,\n",
       "        1523., 2146., 1775., 1016.,  273.,    0.,    0.,    0.],\n",
       "       [   0.,    0.,    0.,    0.,   75.,  834., 1593., 2254., 1940.,\n",
       "        1239.,  503.,   58.,    0.,    0.,    0.,    0.,   31.,  621.,\n",
       "        1380., 1921., 1499.,  740.,  168.,    0.,    0.,    0.],\n",
       "       [   0.,    0.,    0.,    0.,   56.,  707., 1466., 2169., 2178.,\n",
       "        1682.,  985.,  325.,   62.,    0.,    0.,    0.,  153.,  787.,\n",
       "        1525., 1725., 1120.,  382.,   29.,    0.,    0.,    0.],\n",
       "       [   0.,    0.,    0.,    0.,   31.,  454., 1185., 1913., 2249.,\n",
       "        2024., 1562.,  957.,  537.,  281.,  136.,  153.,  503., 1199.,\n",
       "        1721., 1446.,  741.,  116.,    0.,    0.,    0.,    0.],\n",
       "       [   0.,    0.,    0.,    0.,    6.,  176.,  678., 1323., 1912.,\n",
       "        2121., 2020., 1668., 1296., 1023.,  846.,  863., 1218., 1649.,\n",
       "        1674., 1076.,  415.,   34.,    0.,    0.,    0.,    0.],\n",
       "       [   0.,    0.,    0.,    0.,    0.,   25.,  274.,  678., 1306.,\n",
       "        1816., 2153., 2160., 1993., 1783., 1606., 1608., 1632., 1564.,\n",
       "        1119.,  564.,  149.,    0.,    0.,    0.,    0.,    0.],\n",
       "       [   0.,    0.,    0.,    0.,    0.,    0.,   24.,  175.,  579.,\n",
       "        1171., 1762., 2117., 2202., 2082., 1918., 1718., 1413.,  980.,\n",
       "         488.,  171.,    9.,    0.,    0.,    0.,    0.,    0.],\n",
       "       [   0.,    0.,    0.,    0.,    0.,    0.,    0.,    6.,  157.,\n",
       "         520., 1003., 1358., 1443., 1340., 1208., 1008.,  686.,  319.,\n",
       "          71.,    7.,    0.,    0.,    0.,    0.,    0.,    0.],\n",
       "       [   0.,    0.,    0.,    0.,    0.,    0.,    0.,    0.,    4.,\n",
       "         114.,  350.,  599.,  684.,  580.,  448.,  263.,  131.,   10.,\n",
       "           0.,    0.,    0.,    0.,    0.,    0.,    0.,    0.],\n",
       "       [   0.,    0.,    0.,    0.,    0.,    0.,    0.,    0.,    0.,\n",
       "           0.,    0.,    0.,    0.,    0.,    0.,    0.,    0.,    0.,\n",
       "           0.,    0.,    0.,    0.,    0.,    0.,    0.,    0.],\n",
       "       [   0.,    0.,    0.,    0.,    0.,    0.,    0.,    0.,    0.,\n",
       "           0.,    0.,    0.,    0.,    0.,    0.,    0.,    0.,    0.,\n",
       "           0.,    0.,    0.,    0.,    0.,    0.,    0.,    0.]])"
      ]
     },
     "execution_count": 305,
     "metadata": {},
     "output_type": "execute_result"
    }
   ],
   "source": [
    "A[4]"
   ]
  },
  {
   "cell_type": "code",
   "execution_count": 291,
   "metadata": {},
   "outputs": [
    {
     "data": {
      "text/plain": [
       "array([[  0. ,   0. ,   0. ,   0. ,   0. ,   0. ,   0. ,   0. ,   0. ,\n",
       "          0. ,   0. ,   0. ,   0. ,   0. ,   0. ,   0. ,   0. ,   0. ,\n",
       "          0. ,   0. ,   0. ,   0. ,   0. ,   0. ,   0. ,   0. ],\n",
       "       [  0. ,   0. ,   0. ,   0. ,   0. ,   0. ,   0. ,   0. ,   0. ,\n",
       "          0. ,   0. ,   0. ,   0. ,   0. ,   0. ,   0. ,   0. ,   0. ,\n",
       "          0. ,   0. ,   0. ,   0. ,   0. ,   0. ,   0. ,   0. ],\n",
       "       [  0. ,   0. ,   0. ,   0. ,   0. ,   0. ,   0. ,   0. ,   0. ,\n",
       "          0. ,   5.7,  30. ,  49.6,  56.7,  33. ,  13.4,   0.6,   0. ,\n",
       "          0. ,   0. ,   0. ,   0. ,   0. ,   0. ,   0. ,   0. ],\n",
       "       [  0. ,   0. ,   0. ,   0. ,   0. ,   0. ,   0. ,   0. ,   0. ,\n",
       "         11.9,  41.4,  91. , 124. , 132.7, 101.7,  57.8,  19.6,   1. ,\n",
       "          0. ,   0. ,   0. ,   0. ,   0. ,   0. ,   0. ,   0. ],\n",
       "       [  0. ,   0. ,   0. ,   0. ,   0. ,   0. ,   0. ,   0.9,   8.1,\n",
       "         43.5,  97.4, 165.1, 199.9, 208.7, 177.7, 127.9,  69.6,  25.7,\n",
       "          5.3,   0. ,   0. ,   0. ,   0. ,   0. ,   0. ,   0. ],\n",
       "       [  0. ,   0. ,   0. ,   0. ,   0. ,   0. ,   0. ,   7. ,  39.5,\n",
       "         98.6, 161.2, 204.2, 221. , 227.6, 220.7, 190.5, 137. ,  69.8,\n",
       "         24.1,   1.4,   0. ,   0. ,   0. ,   0. ,   0. ,   0. ],\n",
       "       [  0. ,   0. ,   0. ,   0. ,   0. ,   0. ,   0. ,  21.7,  79.5,\n",
       "        134.9, 159. , 158. , 174.8, 205.2, 224.3, 222.1, 193.9, 135.2,\n",
       "         65.2,  17.2,   0. ,   0. ,   0. ,   0. ,   0. ,   0. ],\n",
       "       [  0. ,   0. ,   0. ,   0. ,   0. ,   0. ,   7.3,  51.7, 122.1,\n",
       "        147.9, 124. ,  85.1, 101.8, 154.1, 198.5, 224.6, 219.8, 185. ,\n",
       "        117.2,  49.2,   8.1,   0. ,   0. ,   0. ,   0. ,   0. ],\n",
       "       [  0. ,   0. ,   0. ,   0. ,   0. ,   3. ,  34.1,  97.7, 148.1,\n",
       "        126.4,  62.8,  16. ,  31.1,  91.8, 161.1, 212.5, 227.7, 216.8,\n",
       "        169.5,  95.2,  30.2,   1.6,   0. ,   0. ,   0. ,   0. ],\n",
       "       [  0. ,   0. ,   0. ,   0. ,   0. ,  17.1,  73.5, 145.4, 160.1,\n",
       "        104.9,  33. ,   1.2,   2.9,  40.1, 102.2, 175.2, 213.9, 226.3,\n",
       "        204.3, 134.8,  60.3,   6.4,   0. ,   0. ,   0. ,   0. ],\n",
       "       [  0. ,   0. ,   0. ,   0. ,   0. ,  32.8, 107.2, 174.8, 154. ,\n",
       "         79.6,  12. ,   0. ,   0. ,  15.2,  53.4, 120. , 180.7, 218.4,\n",
       "        222.9, 169.1,  93.2,  22.1,   0. ,   0. ,   0. ,   0. ],\n",
       "       [  0. ,   0. ,   0. ,   0. ,   1.2,  51.3, 127.2, 187.6, 141.2,\n",
       "         65.3,   3.7,   0. ,   0. ,   1.9,  14.8,  58. , 128. , 191. ,\n",
       "        223.7, 197.3, 124.8,  48.9,   3.4,   0. ,   0. ,   0. ],\n",
       "       [  0. ,   0. ,   0. ,   0. ,   3.7,  65.1, 141.1, 195.3, 133.9,\n",
       "         57.9,   0. ,   0. ,   0. ,   0. ,   1.4,  19.3,  82.9, 157.5,\n",
       "        215.6, 218.1, 149.1,  73.1,   7. ,   0. ,   0. ,   0. ],\n",
       "       [  0. ,   0. ,   0. ,   0. ,   6.2,  77.2, 153.2, 204.9, 133.9,\n",
       "         57.9,   0. ,   0. ,   0. ,   0. ,   0. ,   1.9,  50.3, 126.3,\n",
       "        200.4, 227.7, 169.2,  93.2,  17.5,   0. ,   0. ,   0. ],\n",
       "       [  0. ,   0. ,   0. ,   0. ,   7.5,  83.5, 159.5, 213.6, 141.4,\n",
       "         65.4,   3.8,   0. ,   0. ,   0. ,   0. ,   0. ,  29. , 100.6,\n",
       "        176.6, 223.6, 180. , 104. ,  28. ,   0. ,   0. ,   0. ],\n",
       "       [  0. ,   0. ,   0. ,   0. ,   7.5,  83.4, 159.3, 219.4, 162.7,\n",
       "         87.8,  20.2,   1. ,   0. ,   0. ,   0. ,   0. ,  12. ,  76.4,\n",
       "        152.3, 214.6, 177.5, 101.6,  27.3,   0. ,   0. ,   0. ],\n",
       "       [  0. ,   0. ,   0. ,   0. ,   7.5,  83.4, 159.3, 225.4, 194. ,\n",
       "        123.9,  50.3,   5.8,   0. ,   0. ,   0. ,   0. ,   3.1,  62.1,\n",
       "        138. , 192.1, 149.9,  74. ,  16.8,   0. ,   0. ,   0. ],\n",
       "       [  0. ,   0. ,   0. ,   0. ,   5.6,  70.7, 146.6, 216.9, 217.8,\n",
       "        168.2,  98.5,  32.5,   6.2,   0. ,   0. ,   0. ,  15.3,  78.7,\n",
       "        152.5, 172.5, 112. ,  38.2,   2.9,   0. ,   0. ,   0. ],\n",
       "       [  0. ,   0. ,   0. ,   0. ,   3.1,  45.4, 118.5, 191.3, 224.9,\n",
       "        202.4, 156.2,  95.7,  53.7,  28.1,  13.6,  15.3,  50.3, 119.9,\n",
       "        172.1, 144.6,  74.1,  11.6,   0. ,   0. ,   0. ,   0. ],\n",
       "       [  0. ,   0. ,   0. ,   0. ,   0.6,  17.6,  67.8, 132.3, 191.2,\n",
       "        212.1, 202. , 166.8, 129.6, 102.3,  84.6,  86.3, 121.8, 164.9,\n",
       "        167.4, 107.6,  41.5,   3.4,   0. ,   0. ,   0. ,   0. ],\n",
       "       [  0. ,   0. ,   0. ,   0. ,   0. ,   2.5,  27.4,  67.8, 130.6,\n",
       "        181.6, 215.3, 216. , 199.3, 178.3, 160.6, 160.8, 163.2, 156.4,\n",
       "        111.9,  56.4,  14.9,   0. ,   0. ,   0. ,   0. ,   0. ],\n",
       "       [  0. ,   0. ,   0. ,   0. ,   0. ,   0. ,   2.4,  17.5,  57.9,\n",
       "        117.1, 176.2, 211.7, 220.2, 208.2, 191.8, 171.8, 141.3,  98. ,\n",
       "         48.8,  17.1,   0.9,   0. ,   0. ,   0. ,   0. ,   0. ],\n",
       "       [  0. ,   0. ,   0. ,   0. ,   0. ,   0. ,   0. ,   0.6,  15.7,\n",
       "         52. , 100.3, 135.8, 144.3, 134. , 120.8, 100.8,  68.6,  31.9,\n",
       "          7.1,   0.7,   0. ,   0. ,   0. ,   0. ,   0. ,   0. ],\n",
       "       [  0. ,   0. ,   0. ,   0. ,   0. ,   0. ,   0. ,   0. ,   0.4,\n",
       "         11.4,  35. ,  59.9,  68.4,  58. ,  44.8,  26.3,  13.1,   1. ,\n",
       "          0. ,   0. ,   0. ,   0. ,   0. ,   0. ,   0. ,   0. ],\n",
       "       [  0. ,   0. ,   0. ,   0. ,   0. ,   0. ,   0. ,   0. ,   0. ,\n",
       "          0. ,   0. ,   0. ,   0. ,   0. ,   0. ,   0. ,   0. ,   0. ,\n",
       "          0. ,   0. ,   0. ,   0. ,   0. ,   0. ,   0. ,   0. ],\n",
       "       [  0. ,   0. ,   0. ,   0. ,   0. ,   0. ,   0. ,   0. ,   0. ,\n",
       "          0. ,   0. ,   0. ,   0. ,   0. ,   0. ,   0. ,   0. ,   0. ,\n",
       "          0. ,   0. ,   0. ,   0. ,   0. ,   0. ,   0. ,   0. ]])"
      ]
     },
     "execution_count": 291,
     "metadata": {},
     "output_type": "execute_result"
    }
   ],
   "source": [
    "A[8]"
   ]
  },
  {
   "cell_type": "markdown",
   "metadata": {},
   "source": [
    "# Max プーリング"
   ]
  },
  {
   "cell_type": "code",
   "execution_count": 491,
   "metadata": {
    "collapsed": true
   },
   "outputs": [],
   "source": [
    "A = np.zeros([10,14,14])\n",
    "B = np.zeros([10,14,14])\n",
    "C= np.zeros([10,14,14])"
   ]
  },
  {
   "cell_type": "code",
   "execution_count": 467,
   "metadata": {},
   "outputs": [
    {
     "data": {
      "text/plain": [
       "array([[[0., 0., 0., ..., 0., 0., 0.],\n",
       "        [0., 0., 0., ..., 0., 0., 0.],\n",
       "        [0., 0., 0., ..., 0., 0., 0.],\n",
       "        ...,\n",
       "        [0., 0., 0., ..., 0., 0., 0.],\n",
       "        [0., 0., 0., ..., 0., 0., 0.],\n",
       "        [0., 0., 0., ..., 0., 0., 0.]],\n",
       "\n",
       "       [[0., 0., 0., ..., 0., 0., 0.],\n",
       "        [0., 0., 0., ..., 0., 0., 0.],\n",
       "        [0., 0., 0., ..., 0., 0., 0.],\n",
       "        ...,\n",
       "        [0., 0., 0., ..., 0., 0., 0.],\n",
       "        [0., 0., 0., ..., 0., 0., 0.],\n",
       "        [0., 0., 0., ..., 0., 0., 0.]],\n",
       "\n",
       "       [[0., 0., 0., ..., 0., 0., 0.],\n",
       "        [0., 0., 0., ..., 0., 0., 0.],\n",
       "        [0., 0., 0., ..., 0., 0., 0.],\n",
       "        ...,\n",
       "        [0., 0., 0., ..., 0., 0., 0.],\n",
       "        [0., 0., 0., ..., 0., 0., 0.],\n",
       "        [0., 0., 0., ..., 0., 0., 0.]],\n",
       "\n",
       "       ...,\n",
       "\n",
       "       [[0., 0., 0., ..., 0., 0., 0.],\n",
       "        [0., 0., 0., ..., 0., 0., 0.],\n",
       "        [0., 0., 0., ..., 0., 0., 0.],\n",
       "        ...,\n",
       "        [0., 0., 0., ..., 0., 0., 0.],\n",
       "        [0., 0., 0., ..., 0., 0., 0.],\n",
       "        [0., 0., 0., ..., 0., 0., 0.]],\n",
       "\n",
       "       [[0., 0., 0., ..., 0., 0., 0.],\n",
       "        [0., 0., 0., ..., 0., 0., 0.],\n",
       "        [0., 0., 0., ..., 0., 0., 0.],\n",
       "        ...,\n",
       "        [0., 0., 0., ..., 0., 0., 0.],\n",
       "        [0., 0., 0., ..., 0., 0., 0.],\n",
       "        [0., 0., 0., ..., 0., 0., 0.]],\n",
       "\n",
       "       [[0., 0., 0., ..., 0., 0., 0.],\n",
       "        [0., 0., 0., ..., 0., 0., 0.],\n",
       "        [0., 0., 0., ..., 0., 0., 0.],\n",
       "        ...,\n",
       "        [0., 0., 0., ..., 0., 0., 0.],\n",
       "        [0., 0., 0., ..., 0., 0., 0.],\n",
       "        [0., 0., 0., ..., 0., 0., 0.]]])"
      ]
     },
     "execution_count": 467,
     "metadata": {},
     "output_type": "execute_result"
    }
   ],
   "source": [
    "B"
   ]
  },
  {
   "cell_type": "code",
   "execution_count": 468,
   "metadata": {},
   "outputs": [
    {
     "data": {
      "text/plain": [
       "[14, 14]"
      ]
     },
     "execution_count": 468,
     "metadata": {},
     "output_type": "execute_result"
    }
   ],
   "source": [
    " output_size(28,28,0,2,2,2)"
   ]
  },
  {
   "cell_type": "code",
   "execution_count": 475,
   "metadata": {},
   "outputs": [
    {
     "data": {
      "text/plain": [
       "array([[0., 0., 0., 0., 0., 0., 0., 0., 0., 0., 0., 0., 0., 0.],\n",
       "       [0., 0., 0., 0., 0., 0., 0., 0., 0., 0., 0., 0., 0., 0.],\n",
       "       [0., 0., 0., 0., 0., 0., 0., 0., 0., 0., 0., 0., 0., 0.],\n",
       "       [0., 0., 0., 0., 0., 0., 0., 0., 0., 0., 0., 0., 0., 0.],\n",
       "       [0., 0., 0., 0., 0., 0., 0., 0., 0., 0., 0., 0., 0., 0.],\n",
       "       [0., 0., 0., 0., 0., 0., 0., 0., 0., 0., 0., 0., 0., 0.],\n",
       "       [0., 0., 0., 0., 0., 0., 0., 0., 0., 0., 0., 0., 0., 0.],\n",
       "       [0., 0., 0., 0., 0., 0., 0., 0., 0., 0., 0., 0., 0., 0.],\n",
       "       [0., 0., 0., 0., 0., 0., 0., 0., 0., 0., 0., 0., 0., 0.],\n",
       "       [0., 0., 0., 0., 0., 0., 0., 0., 0., 0., 0., 0., 0., 0.],\n",
       "       [0., 0., 0., 0., 0., 0., 0., 0., 0., 0., 0., 0., 0., 0.],\n",
       "       [0., 0., 0., 0., 0., 0., 0., 0., 0., 0., 0., 0., 0., 0.],\n",
       "       [0., 0., 0., 0., 0., 0., 0., 0., 0., 0., 0., 0., 0., 0.],\n",
       "       [0., 0., 0., 0., 0., 0., 0., 0., 0., 0., 0., 0., 0., 0.]])"
      ]
     },
     "execution_count": 475,
     "metadata": {},
     "output_type": "execute_result"
    }
   ],
   "source": [
    "C[1]"
   ]
  },
  {
   "cell_type": "code",
   "execution_count": 563,
   "metadata": {},
   "outputs": [],
   "source": [
    "r = np.zeros([2,])"
   ]
  },
  {
   "cell_type": "code",
   "execution_count": 578,
   "metadata": {},
   "outputs": [],
   "source": [
    "#プーリングの高さと幅\n",
    "f_height=2\n",
    "f_width = 2\n",
    "F_SIZE = 2\n",
    "stride =2\n",
    "a_list =[]\n",
    "F = 1\n",
    "padding = 0\n",
    "num, channel, width, height = X_train.shape\n",
    "#サンプル数\n",
    "output_shape = output_size(height,width,padding,f_height,f_width,stride)\n",
    "count = 0\n",
    "index_list = []\n",
    "column_list = []\n",
    "X_train_pad = np.pad(X_train,((0,0),(0,0),(padding,padding),(padding,padding)),'constant',constant_values=0)\n",
    "for  n in range(1):\n",
    "    for f  in range(F):\n",
    "        count_w_index = 0\n",
    "        count_h_index = 0  \n",
    "        #幅:w\n",
    "        for  i in range(0, (output_shape[0]), stride):\n",
    "#             print(count_w_index)             a[count_w_index, count_h_index] =   (X_train[n,c][i:i+F_SIZE, 0:F_SIZE]*W).sum()\n",
    "#             print(count_w_index, count_h_index)      \n",
    "#             print(count_h_index)            \n",
    "#             #高さh\n",
    "            for s in range(0, output_shape[1], stride):\n",
    "#                 print(i,i+F_SIZE, s,s+F_SIZE)#インデックスのデバッグ\n",
    "#                 print ((X_train[n,c][i:i+F_SIZE, s:s+F_SIZE]*W).sum())\n",
    "#                 print(X_train_pad[n,c][i:i+F_SIZE, s:s+F_SIZE])\n",
    "#                 print(np.max(X_train_pad[n,c][i:i+F_SIZE, s:s+F_SIZE]))\n",
    "                #最大値を取得し対応する代入\n",
    "                A[n,i,s] = (np.max(X_train_pad[n,c][i:i+F_SIZE, s:s+F_SIZE]))\n",
    "                #最大値のインデックスを取得\n",
    "#                 print((np.argmax(X_train_pad[n,c][i:i+F_SIZE, s:s+F_SIZE])))\n",
    "                B[n,i,s]  = (np.argmax(X_train_pad[n,c][i:i+F_SIZE, s:s+F_SIZE]))      \n",
    "#                 print(np.unravel_index(np.argmax(X_train_pad[n,c][i:i+F_SIZE, s:s+F_SIZE](f_height,f_width))))\n",
    "#                 print(np.unravel_index(np.argmax(X_train_pad[n,c][i:i+F_SIZE, s:s+F_SIZE]),(f_height,f_width)))\n",
    "                index,colum = np.unravel_index(np.argmax(X_train_pad[n,c][i:i+F_SIZE, s:s+F_SIZE]),(f_height,f_width))      \n",
    "                #最大値のインデックスを保存\n",
    "                index_list.append(index)\n",
    "                column_list.append(colum)\n",
    "                #np.array(np.unravel_index(np.argmax(X_train_pad[n,c][i:i+F_SIZE, s:s+F_SIZE]),(f_height,f_width)))+np.array([i,s])"
   ]
  },
  {
   "cell_type": "code",
   "execution_count": 534,
   "metadata": {},
   "outputs": [],
   "source": [
    "D = np.zeros([1,1414])"
   ]
  },
  {
   "cell_type": "code",
   "execution_count": 519,
   "metadata": {},
   "outputs": [
    {
     "data": {
      "text/plain": [
       "(28, 28)"
      ]
     },
     "execution_count": 519,
     "metadata": {},
     "output_type": "execute_result"
    }
   ],
   "source": [
    "X_train_pad[0,0].shape"
   ]
  },
  {
   "cell_type": "code",
   "execution_count": 514,
   "metadata": {},
   "outputs": [
    {
     "data": {
      "text/plain": [
       "array([2, 2])"
      ]
     },
     "execution_count": 514,
     "metadata": {},
     "output_type": "execute_result"
    }
   ],
   "source": [
    "np.array([1,1]) + np.array([1,1])"
   ]
  },
  {
   "cell_type": "code",
   "execution_count": 500,
   "metadata": {},
   "outputs": [
    {
     "data": {
      "text/plain": [
       "array([[[  0,   0,   0,   0,   0,   0,   0,   0,   0,   0,   0,   0,\n",
       "           0,   0,   0,   0,   0,   0,   0,   0,   0,   0,   0,   0,\n",
       "           0,   0,   0,   0],\n",
       "        [  0,   0,   0,   0,   0,   0,   0,   0,   0,   0,   0,   0,\n",
       "           0,   0,   0,   0,   0,   0,   0,   0,   0,   0,   0,   0,\n",
       "           0,   0,   0,   0],\n",
       "        [  0,   0,   0,   0,   0,   0,   0,   0,   0,   0,   0,   0,\n",
       "           0,   0,   0,   0,   0,   0,   0,   0,   0,   0,   0,   0,\n",
       "           0,   0,   0,   0],\n",
       "        [  0,   0,   0,   0,   0,   0,   0,   0,   0,   0,   0,   0,\n",
       "           0,   0,   0,   0,   0,   0,   0,   0,   0,   0,   0,   0,\n",
       "           0,   0,   0,   0],\n",
       "        [  0,   0,   0,   0,   0,   0,   0,   0,   0,   0,   0,   0,\n",
       "           0,   0,   0,   0,   0,  64, 253, 255,  63,   0,   0,   0,\n",
       "           0,   0,   0,   0],\n",
       "        [  0,   0,   0,   0,   0,   0,   0,   0,   0,   0,   0,   0,\n",
       "           0,   0,   0,   0,  96, 205, 251, 253, 205, 111,   4,   0,\n",
       "           0,   0,   0,   0],\n",
       "        [  0,   0,   0,   0,   0,   0,   0,   0,   0,   0,   0,   0,\n",
       "           0,   0,   0,  96, 189, 251, 251, 253, 251, 251,  31,   0,\n",
       "           0,   0,   0,   0],\n",
       "        [  0,   0,   0,   0,   0,   0,   0,   0,   0,   0,   0,   0,\n",
       "          16,  64, 223, 244, 251, 251, 211, 213, 251, 251,  31,   0,\n",
       "           0,   0,   0,   0],\n",
       "        [  0,   0,   0,   0,   0,   0,   0,   0,   0,   0,   0,  80,\n",
       "         181, 251, 253, 251, 251, 251,  94,  96, 251, 251,  31,   0,\n",
       "           0,   0,   0,   0],\n",
       "        [  0,   0,   0,   0,   0,   0,   0,   0,   0,   0,  92, 253,\n",
       "         253, 253, 255, 253, 253, 253,  95,  96, 253, 253,  31,   0,\n",
       "           0,   0,   0,   0],\n",
       "        [  0,   0,   0,   0,   0,   0,   0,   0,   0,  92, 236, 251,\n",
       "         243, 220, 233, 251, 251, 243,  82,  96, 251, 251,  31,   0,\n",
       "           0,   0,   0,   0],\n",
       "        [  0,   0,   0,   0,   0,   0,   0,   0,  80, 253, 251, 251,\n",
       "         188,   0,  96, 251, 251, 109,   0,  96, 251, 251,  31,   0,\n",
       "           0,   0,   0,   0],\n",
       "        [  0,   0,   0,   0,   0,   0,   0,  96, 240, 253, 243, 188,\n",
       "          42,   0,  96, 204, 109,   4,   0,  12, 197, 251,  31,   0,\n",
       "           0,   0,   0,   0],\n",
       "        [  0,   0,   0,   0,   0,   0,   0, 221, 251, 253, 121,   0,\n",
       "           0,   0,  36,  23,   0,   0,   0,   0, 190, 251,  31,   0,\n",
       "           0,   0,   0,   0],\n",
       "        [  0,   0,   0,   0,   0,   0,  48, 234, 253,   0,   0,   0,\n",
       "           0,   0,   0,   0,   0,   0,   0,   0, 191, 253,  31,   0,\n",
       "           0,   0,   0,   0],\n",
       "        [  0,   0,   0,   0,   0,  44, 221, 251, 251,   0,   0,   0,\n",
       "           0,   0,   0,   0,   0,   0,   0,  12, 197, 251,  31,   0,\n",
       "           0,   0,   0,   0],\n",
       "        [  0,   0,   0,   0,   0, 190, 251, 251, 251,   0,   0,   0,\n",
       "           0,   0,   0,   0,   0,   0,   0,  96, 251, 251,  31,   0,\n",
       "           0,   0,   0,   0],\n",
       "        [  0,   0,   0,   0,   0, 190, 251, 251, 113,   0,   0,   0,\n",
       "           0,   0,   0,   0,   0,   0,  40, 234, 251, 219,  23,   0,\n",
       "           0,   0,   0,   0],\n",
       "        [  0,   0,   0,   0,   0, 190, 251, 251,  94,   0,   0,   0,\n",
       "           0,   0,   0,   0,   0,  40, 217, 253, 231,  47,   0,   0,\n",
       "           0,   0,   0,   0],\n",
       "        [  0,   0,   0,   0,   0, 191, 253, 253, 253,   0,   0,   0,\n",
       "           0,   0,   0,  12, 174, 253, 253, 219,  39,   0,   0,   0,\n",
       "           0,   0,   0,   0],\n",
       "        [  0,   0,   0,   0,   0,  67, 236, 251, 251, 191, 190, 111,\n",
       "          72, 190, 191, 197, 251, 243, 121,  39,   0,   0,   0,   0,\n",
       "           0,   0,   0,   0],\n",
       "        [  0,   0,   0,   0,   0,   0,  63, 236, 251, 253, 251, 251,\n",
       "         251, 251, 253, 251, 188,  94,   0,   0,   0,   0,   0,   0,\n",
       "           0,   0,   0,   0],\n",
       "        [  0,   0,   0,   0,   0,   0,   0,  27, 129, 253, 251, 251,\n",
       "         251, 251, 229, 168,  15,   0,   0,   0,   0,   0,   0,   0,\n",
       "           0,   0,   0,   0],\n",
       "        [  0,   0,   0,   0,   0,   0,   0,   0,   0,  95, 212, 251,\n",
       "         211,  94,  59,   0,   0,   0,   0,   0,   0,   0,   0,   0,\n",
       "           0,   0,   0,   0],\n",
       "        [  0,   0,   0,   0,   0,   0,   0,   0,   0,   0,   0,   0,\n",
       "           0,   0,   0,   0,   0,   0,   0,   0,   0,   0,   0,   0,\n",
       "           0,   0,   0,   0],\n",
       "        [  0,   0,   0,   0,   0,   0,   0,   0,   0,   0,   0,   0,\n",
       "           0,   0,   0,   0,   0,   0,   0,   0,   0,   0,   0,   0,\n",
       "           0,   0,   0,   0],\n",
       "        [  0,   0,   0,   0,   0,   0,   0,   0,   0,   0,   0,   0,\n",
       "           0,   0,   0,   0,   0,   0,   0,   0,   0,   0,   0,   0,\n",
       "           0,   0,   0,   0],\n",
       "        [  0,   0,   0,   0,   0,   0,   0,   0,   0,   0,   0,   0,\n",
       "           0,   0,   0,   0,   0,   0,   0,   0,   0,   0,   0,   0,\n",
       "           0,   0,   0,   0]]], dtype=uint8)"
      ]
     },
     "execution_count": 500,
     "metadata": {},
     "output_type": "execute_result"
    }
   ],
   "source": [
    "X_train[1]"
   ]
  },
  {
   "cell_type": "code",
   "execution_count": 472,
   "metadata": {},
   "outputs": [
    {
     "data": {
      "text/plain": [
       "(10, 14, 14)"
      ]
     },
     "execution_count": 472,
     "metadata": {},
     "output_type": "execute_result"
    }
   ],
   "source": [
    "C, N \n"
   ]
  },
  {
   "cell_type": "code",
   "execution_count": 454,
   "metadata": {},
   "outputs": [
    {
     "data": {
      "text/plain": [
       "array([[0, 0, 0, 0, 0, 0, 0, 0, 0, 0, 0, 0, 0, 0],\n",
       "       [0, 0, 0, 0, 0, 0, 0, 0, 0, 0, 0, 0, 0, 0],\n",
       "       [0, 0, 0, 0, 0, 0, 0, 0, 0, 0, 0, 0, 0, 0],\n",
       "       [0, 0, 0, 0, 0, 0, 0, 0, 0, 0, 0, 0, 0, 0],\n",
       "       [0, 0, 0, 0, 0, 0, 0, 0, 0, 0, 3, 0, 3, 0],\n",
       "       [0, 0, 0, 0, 0, 0, 0, 0, 0, 0, 0, 0, 0, 0],\n",
       "       [0, 0, 0, 0, 0, 0, 0, 0, 3, 0, 2, 0, 0, 0],\n",
       "       [0, 0, 0, 0, 0, 0, 0, 0, 0, 0, 0, 0, 0, 0],\n",
       "       [0, 0, 0, 0, 0, 0, 3, 0, 3, 0, 0, 0, 0, 0],\n",
       "       [0, 0, 0, 0, 0, 0, 0, 0, 0, 0, 0, 0, 0, 0],\n",
       "       [0, 0, 0, 0, 0, 0, 3, 0, 0, 0, 0, 0, 0, 0],\n",
       "       [0, 0, 0, 0, 0, 0, 0, 0, 0, 0, 0, 0, 0, 0],\n",
       "       [0, 0, 0, 0, 0, 0, 3, 0, 0, 0, 0, 0, 0, 0],\n",
       "       [0, 0, 0, 0, 0, 0, 0, 0, 0, 0, 0, 0, 0, 0]])"
      ]
     },
     "execution_count": 454,
     "metadata": {},
     "output_type": "execute_result"
    }
   ],
   "source": []
  },
  {
   "cell_type": "code",
   "execution_count": 487,
   "metadata": {
    "collapsed": true
   },
   "outputs": [],
   "source": [
    "C"
   ]
  },
  {
   "cell_type": "code",
   "execution_count": 488,
   "metadata": {},
   "outputs": [
    {
     "data": {
      "text/plain": [
       "list"
      ]
     },
     "execution_count": 488,
     "metadata": {},
     "output_type": "execute_result"
    }
   ],
   "source": [
    "type(C)"
   ]
  },
  {
   "cell_type": "markdown",
   "metadata": {},
   "source": [
    "# Flatten(平滑化)"
   ]
  },
  {
   "cell_type": "code",
   "execution_count": 486,
   "metadata": {},
   "outputs": [
    {
     "data": {
      "text/plain": [
       "numpy.ndarray"
      ]
     },
     "execution_count": 486,
     "metadata": {},
     "output_type": "execute_result"
    }
   ],
   "source": [
    "type(C)"
   ]
  },
  {
   "cell_type": "code",
   "execution_count": 43,
   "metadata": {
    "collapsed": true
   },
   "outputs": [],
   "source": [
    "model = SimpleConv1d()"
   ]
  },
  {
   "cell_type": "code",
   "execution_count": 44,
   "metadata": {},
   "outputs": [
    {
     "data": {
      "text/plain": [
       "array([[35, 50]])"
      ]
     },
     "execution_count": 44,
     "metadata": {},
     "output_type": "execute_result"
    }
   ],
   "source": [
    "model.forward(X).reshape(1,2)"
   ]
  },
  {
   "cell_type": "code",
   "execution_count": 45,
   "metadata": {
    "collapsed": true
   },
   "outputs": [],
   "source": [
    "X = np.array([1,2,3,4])"
   ]
  },
  {
   "cell_type": "code",
   "execution_count": 46,
   "metadata": {},
   "outputs": [
    {
     "data": {
      "text/plain": [
       "(array([30]), array([ 50,  80, 110]), array([ 30, 110, 170, 140]))"
      ]
     },
     "execution_count": 46,
     "metadata": {},
     "output_type": "execute_result"
    }
   ],
   "source": [
    "model.backward(X)"
   ]
  },
  {
   "cell_type": "code",
   "execution_count": 47,
   "metadata": {},
   "outputs": [
    {
     "data": {
      "text/plain": [
       "array([1, 2, 3, 4])"
      ]
     },
     "execution_count": 47,
     "metadata": {},
     "output_type": "execute_result"
    }
   ],
   "source": [
    "np.arange(1,5,1)"
   ]
  },
  {
   "cell_type": "code",
   "execution_count": 48,
   "metadata": {
    "collapsed": true
   },
   "outputs": [],
   "source": [
    "A = np.zeros(222)"
   ]
  },
  {
   "cell_type": "code",
   "execution_count": 49,
   "metadata": {},
   "outputs": [
    {
     "data": {
      "text/plain": [
       "4"
      ]
     },
     "execution_count": 49,
     "metadata": {},
     "output_type": "execute_result"
    }
   ],
   "source": [
    "X.shape[0]"
   ]
  },
  {
   "cell_type": "code",
   "execution_count": 50,
   "metadata": {
    "collapsed": true
   },
   "outputs": [],
   "source": [
    "out = out_put(X.shape[0],3)"
   ]
  },
  {
   "cell_type": "code",
   "execution_count": 51,
   "metadata": {},
   "outputs": [
    {
     "data": {
      "text/plain": [
       "2"
      ]
     },
     "execution_count": 51,
     "metadata": {},
     "output_type": "execute_result"
    }
   ],
   "source": [
    "out"
   ]
  },
  {
   "cell_type": "code",
   "execution_count": 52,
   "metadata": {
    "collapsed": true
   },
   "outputs": [],
   "source": [
    "def forward(X,W,output_width):\n",
    "    \"\"\"\n",
    "    フォワード\n",
    "    Parameters\n",
    "    ----------\n",
    "    X : 次の形のndarray, shape (batch_size, n_nodes1)\n",
    "        入力\n",
    "    Returns\n",
    "    ----------\n",
    "    A : 次の形のndarray, shape (batch_size, n_nodes2)\n",
    "        出力\n",
    "    \"\"\"       \n",
    "    a_list = []\n",
    "    count = 0\n",
    "    #1*3のフィルターを定義\n",
    "    initialize = SimpleInitializer(0.01)\n",
    "    B = np.array(1)\n",
    "    for i in range(len(X)-1):  \n",
    "        #出力のセル１個分\n",
    "        r = 0\n",
    "        for s in range(W.shape[0]):  \n",
    "            if i +s >= X.shape[0]:\n",
    "                 return np.array(a_list)\n",
    "            r += np.dot(X[i+s],W[s])\n",
    "            #バイアス項を加算\n",
    "        r += B\n",
    "        a_list.append(r)\n",
    "\n",
    "    \n",
    "    "
   ]
  },
  {
   "cell_type": "code",
   "execution_count": 53,
   "metadata": {
    "collapsed": true
   },
   "outputs": [],
   "source": [
    "def backward(X,W,delta_a):\n",
    "    delta_b  = np.sum(delta_a,axis =0,keepdims=True)\n",
    "    #Wの勾配を計算\n",
    "    for i  in range(W.shape[0]):\n",
    "        index = np.arange(i,i+2)\n",
    "        print(np.dot(delta_a,X[index]))\n",
    "    #Xの勾配を計算\n",
    "    for i  in range(X.shape[0]):\n",
    "    #インデックスがXのはじめと、末尾のみ別の処理\n",
    "        if i == 0 :\n",
    "            print(delta_a[i]*W[i])\n",
    "        elif i == len(X)-1:\n",
    "            print(delta_a[i-2]*W[i-1])\n",
    "        else:\n",
    "            index = np.array([i,i-1])\n",
    "            index = np.array(index)\n",
    "            print(np.dot(delta_a,W[index]))\n",
    "    "
   ]
  },
  {
   "cell_type": "markdown",
   "metadata": {},
   "source": [
    "# データセットの用意"
   ]
  },
  {
   "cell_type": "code",
   "execution_count": 302,
   "metadata": {
    "collapsed": true
   },
   "outputs": [],
   "source": [
    "from sklearn.datasets import fetch_mldata\n",
    "from sklearn.model_selection import train_test_split\n",
    "\n",
    "# 保存先を指定\n",
    "mnist_dir = \"./mnist_data/\"\n",
    "\n",
    "# MNISTの読み込み\n",
    "mnist = fetch_mldata('MNIST original', data_home=mnist_dir)\n",
    "# trainとtestに分割する\n",
    "X_train, X_test, y_train, y_test = train_test_split(mnist.data, mnist.target, test_size=0.14285, shuffle=False)\n",
    "# ラベルをint型にしておく\n",
    "y_train = y_train.astype(np.int)\n",
    "y_test = y_test.astype(np.int)"
   ]
  },
  {
   "cell_type": "code",
   "execution_count": 303,
   "metadata": {},
   "outputs": [
    {
     "data": {
      "text/plain": [
       "(60000, 784)"
      ]
     },
     "execution_count": 303,
     "metadata": {},
     "output_type": "execute_result"
    }
   ],
   "source": [
    "X_train.shape"
   ]
  },
  {
   "cell_type": "markdown",
   "metadata": {},
   "source": [
    "#  ２次元に変換"
   ]
  },
  {
   "cell_type": "code",
   "execution_count": 41,
   "metadata": {
    "collapsed": true
   },
   "outputs": [],
   "source": [
    "X_test = X_test.reshape(10000,1,28,28)"
   ]
  },
  {
   "cell_type": "code",
   "execution_count": 42,
   "metadata": {
    "collapsed": true
   },
   "outputs": [],
   "source": [
    "X_train = X_train.reshape(60000,1,28,28)"
   ]
  },
  {
   "cell_type": "code",
   "execution_count": null,
   "metadata": {
    "collapsed": true
   },
   "outputs": [],
   "source": []
  },
  {
   "cell_type": "code",
   "execution_count": null,
   "metadata": {
    "collapsed": true
   },
   "outputs": [],
   "source": []
  },
  {
   "cell_type": "code",
   "execution_count": null,
   "metadata": {
    "collapsed": true
   },
   "outputs": [],
   "source": []
  }
 ],
 "metadata": {
  "kernelspec": {
   "display_name": "Python 3",
   "language": "python",
   "name": "python3"
  },
  "language_info": {
   "codemirror_mode": {
    "name": "ipython",
    "version": 3
   },
   "file_extension": ".py",
   "mimetype": "text/x-python",
   "name": "python",
   "nbconvert_exporter": "python",
   "pygments_lexer": "ipython3",
   "version": "3.6.6"
  }
 },
 "nbformat": 4,
 "nbformat_minor": 2
}
